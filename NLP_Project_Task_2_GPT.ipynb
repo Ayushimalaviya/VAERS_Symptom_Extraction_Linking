{
  "cells": [
    {
      "cell_type": "code",
      "execution_count": 1,
      "metadata": {
        "id": "OpNMe7uAj7sK"
      },
      "outputs": [],
      "source": [
        "# from google.colab import drive\n",
        "# drive.mount('/content/drive')\n",
        "# !ls \"/content/drive/My Drive/NLP-Project\""
      ]
    },
    {
      "cell_type": "code",
      "source": [
        "# !pip install stanza"
      ],
      "metadata": {
        "id": "kdL-6JJaM3Gy"
      },
      "execution_count": null,
      "outputs": []
    },
    {
      "cell_type": "code",
      "execution_count": null,
      "metadata": {
        "id": "ztTOy6xjoXjx"
      },
      "outputs": [],
      "source": [
        "import pandas as pd\n",
        "import matplotlib.pyplot as plt\n",
        "import seaborn as sns\n",
        "\n",
        "import warnings\n",
        "warnings.filterwarnings(\"ignore\")"
      ]
    },
    {
      "cell_type": "markdown",
      "metadata": {
        "id": "77mdsOHx0AEv"
      },
      "source": [
        "## VAERS 2020 Data"
      ]
    },
    {
      "cell_type": "code",
      "execution_count": null,
      "metadata": {
        "id": "El2v3x_doCiy"
      },
      "outputs": [],
      "source": [
        "data_2020 = pd.read_csv(\"/content/drive/My Drive/NLP-Project/2020VAERSDATA.csv\", encoding='latin1')\n",
        "data_2020_sym = pd.read_csv('/content/drive/My Drive/NLP-Project/2020VAERSSYMPTOMS.csv', encoding='latin1')\n",
        "data_2020_vax = pd.read_csv('/content/drive/My Drive/NLP-Project/2020VAERSVAX.csv', encoding='latin1')\n",
        "\n",
        "# data_2020 = pd.read_csv(\"/content/2020VAERSDATA.csv\", encoding='latin1', error_bad_lines=False)\n",
        "# data_2020_sym = pd.read_csv(\"/content/2020VAERSSYMPTOMS.csv\", encoding='latin1')\n",
        "# data_2020_vax = pd.read_csv(\"/content/2020VAERSVAX.csv\", encoding='latin1')\n"
      ]
    },
    {
      "cell_type": "code",
      "execution_count": null,
      "metadata": {
        "id": "Tji96vUjtrTu"
      },
      "outputs": [],
      "source": [
        "data_2020.shape, data_2020_sym.shape, data_2020_vax.shape"
      ]
    },
    {
      "cell_type": "code",
      "execution_count": null,
      "metadata": {
        "id": "4z1Wi0NQtt-j"
      },
      "outputs": [],
      "source": [
        "data_2020.info()"
      ]
    },
    {
      "cell_type": "markdown",
      "metadata": {
        "id": "axuIgvARt356"
      },
      "source": [
        "\n",
        "### As the number of null records for 'Text' is very neglible. Hence, we can drop it."
      ]
    },
    {
      "cell_type": "code",
      "execution_count": null,
      "metadata": {
        "id": "s7KpUuQ2oyql"
      },
      "outputs": [],
      "source": [
        "data_2020['SYMPTOM_TEXT'].isna().sum()"
      ]
    },
    {
      "cell_type": "code",
      "execution_count": null,
      "metadata": {
        "id": "qVFdr16Suiko"
      },
      "outputs": [],
      "source": [
        "data_2020_vax.info()"
      ]
    },
    {
      "cell_type": "code",
      "execution_count": null,
      "metadata": {
        "id": "yxhFRugvvnOS"
      },
      "outputs": [],
      "source": [
        "len(data_2020_vax['VAX_NAME'].unique())"
      ]
    },
    {
      "cell_type": "markdown",
      "metadata": {
        "id": "6y4TKMyR0UzS"
      },
      "source": [
        "## VAERS 2021 Data"
      ]
    },
    {
      "cell_type": "code",
      "execution_count": null,
      "metadata": {
        "id": "QXKzCbivvqJH"
      },
      "outputs": [],
      "source": [
        "data_2021 = pd.read_csv(\"/content/drive/My Drive/NLP-Project/2021VAERSDATA.csv\", encoding='latin1')\n",
        "data_2021_sym = pd.read_csv('/content/drive/My Drive/NLP-Project/2021VAERSSYMPTOMS.csv', encoding='latin1')\n",
        "data_2021_vax = pd.read_csv('/content/drive/My Drive/NLP-Project/2021VAERSVAX.csv', encoding='latin1')\n",
        "\n",
        "\n",
        "# data_2021 = pd.read_csv(\"/content/2021VAERSDATA.csv\", encoding='latin1', error_bad_lines = False)\n",
        "# data_2021_sym = pd.read_csv('/content/2021VAERSSYMPTOMS.csv', encoding='latin1')\n",
        "# data_2021_vax = pd.read_csv('/content/2021VAERSVAX.csv', encoding='latin1')"
      ]
    },
    {
      "cell_type": "code",
      "execution_count": null,
      "metadata": {
        "id": "Tv8bgETq0d1g"
      },
      "outputs": [],
      "source": [
        "data_2021.shape, data_2021_sym.shape, data_2021_vax.shape"
      ]
    },
    {
      "cell_type": "code",
      "execution_count": null,
      "metadata": {
        "id": "TnINFHR-0jLR"
      },
      "outputs": [],
      "source": [
        "data_2021.info()"
      ]
    },
    {
      "cell_type": "code",
      "execution_count": null,
      "metadata": {
        "id": "mArxiTfS0liO"
      },
      "outputs": [],
      "source": [
        "data_2021['SYMPTOM_TEXT'].isna().sum()"
      ]
    },
    {
      "cell_type": "code",
      "execution_count": null,
      "metadata": {
        "id": "dnTViSh60tHy"
      },
      "outputs": [],
      "source": [
        "data_2021_vax.info()"
      ]
    },
    {
      "cell_type": "code",
      "execution_count": null,
      "metadata": {
        "id": "N5ZWeYWu1n4Z"
      },
      "outputs": [],
      "source": [
        "len(data_2021_vax['VAX_NAME'].unique())"
      ]
    },
    {
      "cell_type": "markdown",
      "metadata": {
        "id": "vbD7LFMX30ns"
      },
      "source": [
        "## VAERS 2022 Data"
      ]
    },
    {
      "cell_type": "code",
      "execution_count": null,
      "metadata": {
        "id": "izT38_Gg3zEh"
      },
      "outputs": [],
      "source": [
        "data_2022 = pd.read_csv(\"/content/drive/My Drive/NLP-Project/2022VAERSDATA.csv\", encoding='latin1')\n",
        "data_2022_sym = pd.read_csv('/content/drive/My Drive/NLP-Project/2022VAERSSYMPTOMS.csv', encoding='latin1')\n",
        "data_2022_vax = pd.read_csv('/content/drive/My Drive/NLP-Project/2022VAERSVAX.csv', encoding='latin1')\n",
        "\n",
        "\n",
        "# data_2022 = pd.read_csv(\"/content/2022VAERSDATA.csv\", encoding='latin1',error_bad_lines=False)\n",
        "# data_2022_sym = pd.read_csv('/content/2022VAERSSYMPTOMS.csv', encoding='latin1')\n",
        "# data_2022_vax = pd.read_csv('/content/2022VAERSVAX.csv', encoding='latin1')\n"
      ]
    },
    {
      "cell_type": "code",
      "execution_count": null,
      "metadata": {
        "id": "IzCvr8zw1rrM"
      },
      "outputs": [],
      "source": [
        "data_2022.shape, data_2022_sym.shape, data_2022_vax.shape"
      ]
    },
    {
      "cell_type": "code",
      "execution_count": null,
      "metadata": {
        "id": "r3j6PZsF5E7J"
      },
      "outputs": [],
      "source": [
        "data_2022.info()"
      ]
    },
    {
      "cell_type": "code",
      "execution_count": null,
      "metadata": {
        "id": "bsQEhDgn5HBr"
      },
      "outputs": [],
      "source": [
        "data_2022['SYMPTOM_TEXT'].isna().sum()"
      ]
    },
    {
      "cell_type": "code",
      "execution_count": null,
      "metadata": {
        "id": "AkvTYpTh5M5k"
      },
      "outputs": [],
      "source": [
        "data_2022_vax.info()"
      ]
    },
    {
      "cell_type": "code",
      "execution_count": null,
      "metadata": {
        "id": "Dnl7sFpN5QoS"
      },
      "outputs": [],
      "source": [
        "len(data_2022_vax['VAX_NAME'].unique())"
      ]
    },
    {
      "cell_type": "code",
      "execution_count": null,
      "metadata": {
        "id": "wQklOjaE5TLr"
      },
      "outputs": [],
      "source": [
        "(data_2022.merge(data_2022_vax, on='VAERS_ID')).shape, data_2022.shape"
      ]
    },
    {
      "cell_type": "markdown",
      "source": [
        "# VAERS 2023 Data"
      ],
      "metadata": {
        "id": "-g1Ws4P5DTOU"
      }
    },
    {
      "cell_type": "code",
      "source": [
        "data_2023 = pd.read_csv(\"/content/drive/My Drive/NLP-Project/2023VAERSDATA.csv\", encoding='latin1')\n",
        "data_2023_sym = pd.read_csv('/content/drive/My Drive/NLP-Project/2023VAERSSYMPTOMS.csv', encoding='latin1')\n",
        "data_2023_vax = pd.read_csv('/content/drive/My Drive/NLP-Project/2023VAERSVAX.csv', encoding='latin1')\n",
        "\n",
        "# data_2023 = pd.read_csv(\"/content/2023VAERSDATA.csv\", encoding='latin1')\n",
        "# data_2023_sym = pd.read_csv('/content/2023VAERSSYMPTOMS.csv', encoding='latin1')\n",
        "# data_2023_vax = pd.read_csv('/content/2023VAERSVAX.csv', encoding='latin1')\n"
      ],
      "metadata": {
        "id": "4nObCRuaDR6M"
      },
      "execution_count": null,
      "outputs": []
    },
    {
      "cell_type": "code",
      "source": [
        "data_2023.shape, data_2023_sym.shape, data_2023_vax.shape"
      ],
      "metadata": {
        "id": "96Ztyph-DbtD"
      },
      "execution_count": null,
      "outputs": []
    },
    {
      "cell_type": "code",
      "source": [
        "data_2023.info()"
      ],
      "metadata": {
        "id": "7yhGC7lbDhWY"
      },
      "execution_count": null,
      "outputs": []
    },
    {
      "cell_type": "code",
      "source": [
        "data_2023['SYMPTOM_TEXT'].isna().sum()"
      ],
      "metadata": {
        "id": "Q6ISg1K7Dl1H"
      },
      "execution_count": null,
      "outputs": []
    },
    {
      "cell_type": "code",
      "source": [
        "data_2022_vax.info()"
      ],
      "metadata": {
        "id": "18jpirVeDqes"
      },
      "execution_count": null,
      "outputs": []
    },
    {
      "cell_type": "code",
      "execution_count": null,
      "metadata": {
        "id": "5ki86FaO94Q1"
      },
      "outputs": [],
      "source": [
        "merged_data_2023 = data_2023_vax.merge(data_2023, on='VAERS_ID', how='left')\n",
        "merged_data_2022 = data_2022_vax.merge(data_2022, on='VAERS_ID', how='left')\n",
        "merged_data_2021 = data_2021_vax.merge(data_2021, on='VAERS_ID', how='left')\n",
        "merged_data_2020 = data_2020_vax.merge(data_2020, on='VAERS_ID', how='left')"
      ]
    },
    {
      "cell_type": "code",
      "execution_count": null,
      "metadata": {
        "id": "byPA5ZnEGW7u"
      },
      "outputs": [],
      "source": [
        "merged_data_2023.shape, merged_data_2022.shape, merged_data_2021.shape, merged_data_2020.shape"
      ]
    },
    {
      "cell_type": "code",
      "execution_count": null,
      "metadata": {
        "id": "hTZ7Re6ZX4Sx"
      },
      "outputs": [],
      "source": [
        "merged_table = pd.concat([merged_data_2022, merged_data_2021, merged_data_2020], ignore_index=True)"
      ]
    },
    {
      "cell_type": "code",
      "execution_count": null,
      "metadata": {
        "id": "G6p3M4Qub6wE"
      },
      "outputs": [],
      "source": [
        "merged_table.shape"
      ]
    },
    {
      "cell_type": "code",
      "source": [
        "merged_table = merged_table[['VAERS_ID',  'SYMPTOM_TEXT', 'VAX_NAME',]]"
      ],
      "metadata": {
        "id": "ChzQt5VStsp-"
      },
      "execution_count": null,
      "outputs": []
    },
    {
      "cell_type": "code",
      "source": [
        "merged_standard_sym = pd.concat([data_2022_sym, data_2021_sym, data_2020_sym], ignore_index=True)"
      ],
      "metadata": {
        "id": "TFjRWdkari_R"
      },
      "execution_count": null,
      "outputs": []
    },
    {
      "cell_type": "code",
      "execution_count": null,
      "metadata": {
        "id": "zfBTiEajl9AI"
      },
      "outputs": [],
      "source": [
        "len(merged_table['VAX_NAME'].unique())"
      ]
    },
    {
      "cell_type": "code",
      "execution_count": null,
      "metadata": {
        "id": "g3mMZkCRmXH9"
      },
      "outputs": [],
      "source": [
        "merged_table.info()"
      ]
    },
    {
      "cell_type": "code",
      "execution_count": null,
      "metadata": {
        "id": "pyvxGLLRnCBw"
      },
      "outputs": [],
      "source": [
        "print(merged_table['SYMPTOM_TEXT'].isna().sum())"
      ]
    },
    {
      "cell_type": "code",
      "execution_count": null,
      "metadata": {
        "id": "kmDcCjXuoHbg"
      },
      "outputs": [],
      "source": [
        "merged_table.dropna(subset=['SYMPTOM_TEXT'], inplace=True)"
      ]
    },
    {
      "cell_type": "code",
      "execution_count": null,
      "metadata": {
        "id": "EhfNBQSrs7EM"
      },
      "outputs": [],
      "source": [
        "value_counts = merged_table['VAX_NAME'].value_counts()\n",
        "count = value_counts[value_counts > 5000]\n",
        "per = (value_counts / value_counts.sum()) * 100\n",
        "percount_2 = per[per >= 5]\n",
        "percount_1 = (per[per < 5]).sum()\n",
        "plot_1 = pd.DataFrame({'Vaccine':['PFIZER-BIONTECH','Morderna','JANSSEN', 'other'], 'percentages':[percount_2[0],percount_2[1],percount_2[2],percount_1]})\n",
        "print(plot_1)"
      ]
    },
    {
      "cell_type": "code",
      "source": [
        "plt.pie(plot_1['percentages'], labels=plot_1['Vaccine'], autopct='%1.1f%%', startangle=140, colors=['blue', 'orange', 'green', 'red'])\n",
        "plt.title(\"No. of Records for each vaccines\")\n",
        "plt.show()"
      ],
      "metadata": {
        "id": "kfNDieO_njr7"
      },
      "execution_count": null,
      "outputs": []
    },
    {
      "cell_type": "markdown",
      "metadata": {
        "id": "w9zuE7cpXhOy"
      },
      "source": [
        "As, COVID vaccines and Zoster has enough number of records. The processing will done the particular dataset."
      ]
    },
    {
      "cell_type": "code",
      "execution_count": null,
      "metadata": {
        "id": "L4Qhzia6_1Lh"
      },
      "outputs": [],
      "source": [
        "covid_data = merged_table[merged_table[\"VAX_NAME\"] == 'COVID19 (COVID19 (PFIZER-BIONTECH))'].head(25)"
      ]
    },
    {
      "cell_type": "code",
      "execution_count": null,
      "metadata": {
        "id": "HTVjBjES_1Lh"
      },
      "outputs": [],
      "source": [
        "covid_data.shape"
      ]
    },
    {
      "cell_type": "code",
      "source": [
        "df = covid_data.merge(merged_standard_sym, on='VAERS_ID', how='left')"
      ],
      "metadata": {
        "id": "yzf8REAOX_Us"
      },
      "execution_count": null,
      "outputs": []
    },
    {
      "cell_type": "code",
      "source": [
        "temp = df[df['VAX_NAME'] == 'COVID19 (COVID19 (PFIZER-BIONTECH))']\n",
        "temp = temp.fillna('NA')\n",
        "lst = []\n",
        "for i,j in temp.iterrows():\n",
        "  if j['SYMPTOM1'] != 'NA':\n",
        "    lst.append(j['SYMPTOM1'])\n",
        "  if j['SYMPTOM2'] != 'NA':\n",
        "    lst.append(j['SYMPTOM2'])\n",
        "  if j['SYMPTOM3'] != 'NA':\n",
        "    lst.append(j['SYMPTOM3'])\n",
        "  if j['SYMPTOM4'] != 'NA':\n",
        "    lst.append(j['SYMPTOM4'])\n",
        "  if j['SYMPTOM5'] != 'NA':\n",
        "    lst.append(j['SYMPTOM5'])\n",
        "print(len(lst))"
      ],
      "metadata": {
        "id": "4YrzwNJncBvN"
      },
      "execution_count": null,
      "outputs": []
    },
    {
      "cell_type": "code",
      "source": [
        "from collections import Counter\n",
        "word_frequency = Counter(lst)\n",
        "frequency_dict = dict(word_frequency)\n",
        "\n",
        "print(frequency_dict)\n",
        "tem = pd.DataFrame(frequency_dict.items(), columns=['Symptoms', 'Frequency'])"
      ],
      "metadata": {
        "id": "UwuwnC7IhZK9"
      },
      "execution_count": null,
      "outputs": []
    },
    {
      "cell_type": "code",
      "source": [
        "lst2 = []\n",
        "for i, j in frequency_dict.items():\n",
        "  lst2.append(i)\n",
        "print(lst2)"
      ],
      "metadata": {
        "id": "KMlPxoIshf9F"
      },
      "execution_count": null,
      "outputs": []
    },
    {
      "cell_type": "code",
      "source": [
        "len(lst2)"
      ],
      "metadata": {
        "id": "VE0rzshVlHD2"
      },
      "execution_count": null,
      "outputs": []
    },
    {
      "cell_type": "code",
      "source": [
        "import pandas as pd"
      ],
      "metadata": {
        "id": "Uu5oETLV0Z4M"
      },
      "execution_count": null,
      "outputs": []
    },
    {
      "cell_type": "code",
      "source": [
        "data_ext = pd.read_csv('/content/sample_data/symptoms_data_extracted.csv')"
      ],
      "metadata": {
        "id": "9a4C7qe6vOOK"
      },
      "execution_count": null,
      "outputs": []
    },
    {
      "cell_type": "code",
      "source": [
        "data_ = pd.read_csv('/content/sample_data/symptoms_output.csv')"
      ],
      "metadata": {
        "id": "tqT62vwixgPz"
      },
      "execution_count": null,
      "outputs": []
    },
    {
      "cell_type": "code",
      "source": [
        "data_ = data_.merge(data_ext, on='VAERS_ID', how='left')"
      ],
      "metadata": {
        "id": "y23wJmXdxsTc"
      },
      "execution_count": null,
      "outputs": []
    },
    {
      "cell_type": "code",
      "source": [
        "data_.rename(columns={'Symptoms_x': 'Symptoms_actual', 'Symptoms_y':'Symptoms_extracted'}, inplace=True)"
      ],
      "metadata": {
        "id": "1O-8_GACx4IH"
      },
      "execution_count": null,
      "outputs": []
    },
    {
      "cell_type": "code",
      "source": [
        "final = data_.iloc[:15]"
      ],
      "metadata": {
        "id": "12zXidY70ldO"
      },
      "execution_count": null,
      "outputs": []
    },
    {
      "cell_type": "code",
      "source": [
        "# lst1 = i2b2f1.Symptoms.tolist()"
      ],
      "metadata": {
        "id": "neUug1t1v6EN"
      },
      "execution_count": null,
      "outputs": []
    },
    {
      "cell_type": "code",
      "source": [
        "# !pip install cohere\n",
        "# !pip install tiktoken\n",
        "# !pip install openai==0.28"
      ],
      "metadata": {
        "id": "7cQwM8EUluKt"
      },
      "execution_count": null,
      "outputs": []
    },
    {
      "cell_type": "code",
      "source": [
        "data_.head(2).values"
      ],
      "metadata": {
        "colab": {
          "base_uri": "https://localhost:8080/"
        },
        "id": "oB8iLQMM129o",
        "outputId": "f7e3760e-327f-4c7f-b4cb-99b1322bd3ef"
      },
      "execution_count": null,
      "outputs": [
        {
          "output_type": "execute_result",
          "data": {
            "text/plain": [
              "array([[1996876,\n",
              "        \"['Dysmenorrhoea', 'Heavy menstrual bleeding', 'Menstruation irregular']\",\n",
              "        \"['bad cramping', 'dysmenorrhoea', 'menstruation irregular  nonserious  onset', 'irregular menstrual cycle', 'extremely heavy bad cramping', 'heavy menstrual bleeding', 'menstruation irregular']\"],\n",
              "       [1996877,\n",
              "        \"['Heavy menstrual bleeding', 'Oligomenorrhoea', 'SARS-CoV-2 test negative']\",\n",
              "        \"['heavy menstrual bleeding']\"]], dtype=object)"
            ]
          },
          "metadata": {},
          "execution_count": 75
        }
      ]
    },
    {
      "cell_type": "code",
      "source": [
        "lst, lst1 =[], []\n",
        "for _, j in data_.iterrows():\n",
        "  lst.append(len(j['Symptoms_actual']))\n",
        "  lst1.append(len(j['Symptoms_extracted']))"
      ],
      "metadata": {
        "id": "nB7cBJKzWzk7"
      },
      "execution_count": null,
      "outputs": []
    },
    {
      "cell_type": "code",
      "source": [
        "actualLength = max(lst)\n",
        "extractedLength = max(lst1)\n",
        "minactualLength = min(lst)\n",
        "minextractedLength = min(lst1)\n",
        "print(actualLength, extractedLength)\n",
        "print(minactualLength, minextractedLength)"
      ],
      "metadata": {
        "colab": {
          "base_uri": "https://localhost:8080/"
        },
        "id": "aYr6WmuOXGBe",
        "outputId": "f81bdbca-950c-44f1-b30d-58eaad502384"
      },
      "execution_count": null,
      "outputs": [
        {
          "output_type": "stream",
          "name": "stdout",
          "text": [
            "2702 3405\n",
            "7 2\n"
          ]
        }
      ]
    },
    {
      "cell_type": "code",
      "source": [
        "import matplotlib.pyplot as plt"
      ],
      "metadata": {
        "id": "6qPn-l4RYkVc"
      },
      "execution_count": null,
      "outputs": []
    },
    {
      "cell_type": "code",
      "source": [
        "# Calculate max and min values\n",
        "actualLength = max(lst)\n",
        "extractedLength = max(lst1)\n",
        "minActualLength = min(lst)\n",
        "minExtractedLength = min(lst1)\n",
        "\n",
        "# Plotting\n",
        "fig, ax = plt.subplots(1, 2, figsize=(10, 4))\n",
        "\n",
        "# Creating bar plots\n",
        "ax[0].bar(['Standard Max', 'Extracted Max'], [actualLength, extractedLength])\n",
        "ax[1].bar(['Actual Min', 'Extracted Min'], [minActualLength, minExtractedLength])\n",
        "\n",
        "# Adding title and labels\n",
        "ax[0].set_title('Max length for Standard and Extracted Symptoms')\n",
        "ax[1].set_title('Min length for Standard and Extracted Symptoms')\n",
        "ax[0].set_ylabel('Values')\n",
        "ax[1].set_ylabel('Values')\n",
        "\n",
        "# Adjust layout\n",
        "plt.tight_layout()\n",
        "\n",
        "# Display the plot\n",
        "plt.show()"
      ],
      "metadata": {
        "colab": {
          "base_uri": "https://localhost:8080/",
          "height": 407
        },
        "id": "dbXohcy0YZo8",
        "outputId": "1ccf993d-b64e-406d-c38d-1bc23e152d97"
      },
      "execution_count": null,
      "outputs": [
        {
          "output_type": "display_data",
          "data": {
            "text/plain": [
              "<Figure size 1000x400 with 2 Axes>"
            ],
            "image/png": "[encoded data removed]"
          },
          "metadata": {}
        }
      ]
    },
    {
      "cell_type": "code",
      "source": [
        "import openai\n",
        "print(openai.VERSION)"
      ],
      "metadata": {
        "colab": {
          "base_uri": "https://localhost:8080/"
        },
        "id": "sYcPSwvUlv4x",
        "outputId": "1dc2196c-e5e7-49c2-b027-21cd7342e3d0"
      },
      "execution_count": null,
      "outputs": [
        {
          "output_type": "stream",
          "name": "stdout",
          "text": [
            "0.28.0\n"
          ]
        }
      ]
    },
    {
      "cell_type": "code",
      "source": [
        "openai.organization = 'your organization key'\n",
        "openai.api_key = 'your_api_key'"
      ],
      "metadata": {
        "id": "AOU_EO6Dl6EN"
      },
      "execution_count": null,
      "outputs": []
    },
    {
      "cell_type": "code",
      "source": [
        "for _ , j in final.iterrows():\n",
        "  print(j['Symptoms_actual'])\n",
        "  break"
      ],
      "metadata": {
        "colab": {
          "base_uri": "https://localhost:8080/"
        },
        "id": "us44peGU989p",
        "outputId": "39570d01-b912-4883-f746-06b6c77dfade"
      },
      "execution_count": null,
      "outputs": [
        {
          "output_type": "stream",
          "name": "stdout",
          "text": [
            "['Dysmenorrhoea', 'Heavy menstrual bleeding', 'Menstruation irregular']\n"
          ]
        }
      ]
    },
    {
      "cell_type": "code",
      "source": [
        "\n",
        "final"
      ],
      "metadata": {
        "colab": {
          "base_uri": "https://localhost:8080/",
          "height": 520
        },
        "id": "68JUmdrVIZJe",
        "outputId": "b167db13-7235-4b24-d61b-e9cfcd5d924b"
      },
      "execution_count": null,
      "outputs": [
        {
          "output_type": "execute_result",
          "data": {
            "text/plain": [
              "    VAERS_ID                                    Symptoms_actual  \\\n",
              "0    1996876  ['Dysmenorrhoea', 'Heavy menstrual bleeding', ...   \n",
              "1    1996877  ['Heavy menstrual bleeding', 'Oligomenorrhoea'...   \n",
              "2    1996878      ['Chills', 'Fatigue', 'Immunisation', 'Pain']   \n",
              "3    1996879                   ['Diarrhoea', 'SARS-CoV-2 test']   \n",
              "4    1996880  ['Fatigue', 'Immunisation', 'Lymphadenopathy',...   \n",
              "5    1996881  ['Biopsy', 'Biopsy skin', 'Drug eruption', 'Ra...   \n",
              "6    1996882                                        ['Pyrexia']   \n",
              "7    1996883   ['Fatigue', 'Headache', 'Vaccination site pain']   \n",
              "8    1996884                            ['Illness', 'Vomiting']   \n",
              "9    1996885                           ['Abdominal pain upper']   \n",
              "10   1996886     ['Blood pressure measurement', 'Hypertension']   \n",
              "11   1996887  ['Heart rate', 'Heart rate increased', 'Palpit...   \n",
              "12   1996888  ['Fatigue', 'Immunisation', 'Lymph node pain',...   \n",
              "13   1996889  ['Immunisation', 'Lymphadenopathy', 'Mobility ...   \n",
              "14   1996890                            ['Fatigue', 'Headache']   \n",
              "\n",
              "                                   Symptoms_extracted  \n",
              "0   ['bad cramping', 'dysmenorrhoea', 'menstruatio...  \n",
              "1                        ['heavy menstrual bleeding']  \n",
              "2   ['side effects', 'achy', 'fatigue', 'pain', 't...  \n",
              "3   ['activated immune system viral complications'...  \n",
              "4   ['prediabetes', 'nose running', 'sore arm jab ...  \n",
              "5   ['lichenoid drug eruption', 'depression', 'tor...  \n",
              "6   ['fever', 'patient pain', 'patient s pain', 'p...  \n",
              "7    ['fatigue', 'vaccination site pain', 'headache']  \n",
              "8                                        ['vomiting']  \n",
              "9   ['abdominal pain upper  nonserious  onset', 's...  \n",
              "10  ['hypertension  nonserious', 'high blood press...  \n",
              "11  ['rapid heartbeat', 'palpitations', 'severe he...  \n",
              "12  ['hashimoto s', 'lymph node pain', 'patient kn...  \n",
              "13  ['pain radiates chest fingersjoints', 'mobilit...  \n",
              "14  ['patient headache', 'fatigue', 'headache', 't...  "
            ],
            "text/html": [
              "\n",
              "  <div id=\"df-faef273b-2ff1-4e1c-aad6-d86515c7a56a\" class=\"colab-df-container\">\n",
              "    <div>\n",
              "<style scoped>\n",
              "    .dataframe tbody tr th:only-of-type {\n",
              "        vertical-align: middle;\n",
              "    }\n",
              "\n",
              "    .dataframe tbody tr th {\n",
              "        vertical-align: top;\n",
              "    }\n",
              "\n",
              "    .dataframe thead th {\n",
              "        text-align: right;\n",
              "    }\n",
              "</style>\n",
              "<table border=\"1\" class=\"dataframe\">\n",
              "  <thead>\n",
              "    <tr style=\"text-align: right;\">\n",
              "      <th></th>\n",
              "      <th>VAERS_ID</th>\n",
              "      <th>Symptoms_actual</th>\n",
              "      <th>Symptoms_extracted</th>\n",
              "    </tr>\n",
              "  </thead>\n",
              "  <tbody>\n",
              "    <tr>\n",
              "      <th>0</th>\n",
              "      <td>1996876</td>\n",
              "      <td>['Dysmenorrhoea', 'Heavy menstrual bleeding', ...</td>\n",
              "      <td>['bad cramping', 'dysmenorrhoea', 'menstruatio...</td>\n",
              "    </tr>\n",
              "    <tr>\n",
              "      <th>1</th>\n",
              "      <td>1996877</td>\n",
              "      <td>['Heavy menstrual bleeding', 'Oligomenorrhoea'...</td>\n",
              "      <td>['heavy menstrual bleeding']</td>\n",
              "    </tr>\n",
              "    <tr>\n",
              "      <th>2</th>\n",
              "      <td>1996878</td>\n",
              "      <td>['Chills', 'Fatigue', 'Immunisation', 'Pain']</td>\n",
              "      <td>['side effects', 'achy', 'fatigue', 'pain', 't...</td>\n",
              "    </tr>\n",
              "    <tr>\n",
              "      <th>3</th>\n",
              "      <td>1996879</td>\n",
              "      <td>['Diarrhoea', 'SARS-CoV-2 test']</td>\n",
              "      <td>['activated immune system viral complications'...</td>\n",
              "    </tr>\n",
              "    <tr>\n",
              "      <th>4</th>\n",
              "      <td>1996880</td>\n",
              "      <td>['Fatigue', 'Immunisation', 'Lymphadenopathy',...</td>\n",
              "      <td>['prediabetes', 'nose running', 'sore arm jab ...</td>\n",
              "    </tr>\n",
              "    <tr>\n",
              "      <th>5</th>\n",
              "      <td>1996881</td>\n",
              "      <td>['Biopsy', 'Biopsy skin', 'Drug eruption', 'Ra...</td>\n",
              "      <td>['lichenoid drug eruption', 'depression', 'tor...</td>\n",
              "    </tr>\n",
              "    <tr>\n",
              "      <th>6</th>\n",
              "      <td>1996882</td>\n",
              "      <td>['Pyrexia']</td>\n",
              "      <td>['fever', 'patient pain', 'patient s pain', 'p...</td>\n",
              "    </tr>\n",
              "    <tr>\n",
              "      <th>7</th>\n",
              "      <td>1996883</td>\n",
              "      <td>['Fatigue', 'Headache', 'Vaccination site pain']</td>\n",
              "      <td>['fatigue', 'vaccination site pain', 'headache']</td>\n",
              "    </tr>\n",
              "    <tr>\n",
              "      <th>8</th>\n",
              "      <td>1996884</td>\n",
              "      <td>['Illness', 'Vomiting']</td>\n",
              "      <td>['vomiting']</td>\n",
              "    </tr>\n",
              "    <tr>\n",
              "      <th>9</th>\n",
              "      <td>1996885</td>\n",
              "      <td>['Abdominal pain upper']</td>\n",
              "      <td>['abdominal pain upper  nonserious  onset', 's...</td>\n",
              "    </tr>\n",
              "    <tr>\n",
              "      <th>10</th>\n",
              "      <td>1996886</td>\n",
              "      <td>['Blood pressure measurement', 'Hypertension']</td>\n",
              "      <td>['hypertension  nonserious', 'high blood press...</td>\n",
              "    </tr>\n",
              "    <tr>\n",
              "      <th>11</th>\n",
              "      <td>1996887</td>\n",
              "      <td>['Heart rate', 'Heart rate increased', 'Palpit...</td>\n",
              "      <td>['rapid heartbeat', 'palpitations', 'severe he...</td>\n",
              "    </tr>\n",
              "    <tr>\n",
              "      <th>12</th>\n",
              "      <td>1996888</td>\n",
              "      <td>['Fatigue', 'Immunisation', 'Lymph node pain',...</td>\n",
              "      <td>['hashimoto s', 'lymph node pain', 'patient kn...</td>\n",
              "    </tr>\n",
              "    <tr>\n",
              "      <th>13</th>\n",
              "      <td>1996889</td>\n",
              "      <td>['Immunisation', 'Lymphadenopathy', 'Mobility ...</td>\n",
              "      <td>['pain radiates chest fingersjoints', 'mobilit...</td>\n",
              "    </tr>\n",
              "    <tr>\n",
              "      <th>14</th>\n",
              "      <td>1996890</td>\n",
              "      <td>['Fatigue', 'Headache']</td>\n",
              "      <td>['patient headache', 'fatigue', 'headache', 't...</td>\n",
              "    </tr>\n",
              "  </tbody>\n",
              "</table>\n",
              "</div>\n",
              "    <div class=\"colab-df-buttons\">\n",
              "\n",
              "  <div class=\"colab-df-container\">\n",
              "    <button class=\"colab-df-convert\" onclick=\"convertToInteractive('df-faef273b-2ff1-4e1c-aad6-d86515c7a56a')\"\n",
              "            title=\"Convert this dataframe to an interactive table.\"\n",
              "            style=\"display:none;\">\n",
              "\n",
              "  <svg xmlns=\"http://www.w3.org/2000/svg\" height=\"24px\" viewBox=\"0 -960 960 960\">\n",
              "    <path d=\"M120-120v-720h720v720H120Zm60-500h600v-160H180v160Zm220 220h160v-160H400v160Zm0 220h160v-160H400v160ZM180-400h160v-160H180v160Zm440 0h160v-160H620v160ZM180-180h160v-160H180v160Zm440 0h160v-160H620v160Z\"/>\n",
              "  </svg>\n",
              "    </button>\n",
              "\n",
              "  <style>\n",
              "    .colab-df-container {\n",
              "      display:flex;\n",
              "      gap: 12px;\n",
              "    }\n",
              "\n",
              "    .colab-df-convert {\n",
              "      background-color: #E8F0FE;\n",
              "      border: none;\n",
              "      border-radius: 50%;\n",
              "      cursor: pointer;\n",
              "      display: none;\n",
              "      fill: #1967D2;\n",
              "      height: 32px;\n",
              "      padding: 0 0 0 0;\n",
              "      width: 32px;\n",
              "    }\n",
              "\n",
              "    .colab-df-convert:hover {\n",
              "      background-color: #E2EBFA;\n",
              "      box-shadow: 0px 1px 2px rgba(60, 64, 67, 0.3), 0px 1px 3px 1px rgba(60, 64, 67, 0.15);\n",
              "      fill: #174EA6;\n",
              "    }\n",
              "\n",
              "    .colab-df-buttons div {\n",
              "      margin-bottom: 4px;\n",
              "    }\n",
              "\n",
              "    [theme=dark] .colab-df-convert {\n",
              "      background-color: #3B4455;\n",
              "      fill: #D2E3FC;\n",
              "    }\n",
              "\n",
              "    [theme=dark] .colab-df-convert:hover {\n",
              "      background-color: #434B5C;\n",
              "      box-shadow: 0px 1px 3px 1px rgba(0, 0, 0, 0.15);\n",
              "      filter: drop-shadow(0px 1px 2px rgba(0, 0, 0, 0.3));\n",
              "      fill: #FFFFFF;\n",
              "    }\n",
              "  </style>\n",
              "\n",
              "    <script>\n",
              "      const buttonEl =\n",
              "        document.querySelector('#df-faef273b-2ff1-4e1c-aad6-d86515c7a56a button.colab-df-convert');\n",
              "      buttonEl.style.display =\n",
              "        google.colab.kernel.accessAllowed ? 'block' : 'none';\n",
              "\n",
              "      async function convertToInteractive(key) {\n",
              "        const element = document.querySelector('#df-faef273b-2ff1-4e1c-aad6-d86515c7a56a');\n",
              "        const dataTable =\n",
              "          await google.colab.kernel.invokeFunction('convertToInteractive',\n",
              "                                                    [key], {});\n",
              "        if (!dataTable) return;\n",
              "\n",
              "        const docLinkHtml = 'Like what you see? Visit the ' +\n",
              "          '<a target=\"_blank\" href=https://colab.research.google.com/notebooks/data_table.ipynb>data table notebook</a>'\n",
              "          + ' to learn more about interactive tables.';\n",
              "        element.innerHTML = '';\n",
              "        dataTable['output_type'] = 'display_data';\n",
              "        await google.colab.output.renderOutput(dataTable, element);\n",
              "        const docLink = document.createElement('div');\n",
              "        docLink.innerHTML = docLinkHtml;\n",
              "        element.appendChild(docLink);\n",
              "      }\n",
              "    </script>\n",
              "  </div>\n",
              "\n",
              "\n",
              "<div id=\"df-eadbced0-bacc-4af9-bc1f-851c8b07ed2b\">\n",
              "  <button class=\"colab-df-quickchart\" onclick=\"quickchart('df-eadbced0-bacc-4af9-bc1f-851c8b07ed2b')\"\n",
              "            title=\"Suggest charts\"\n",
              "            style=\"display:none;\">\n",
              "\n",
              "<svg xmlns=\"http://www.w3.org/2000/svg\" height=\"24px\"viewBox=\"0 0 24 24\"\n",
              "     width=\"24px\">\n",
              "    <g>\n",
              "        <path d=\"M19 3H5c-1.1 0-2 .9-2 2v14c0 1.1.9 2 2 2h14c1.1 0 2-.9 2-2V5c0-1.1-.9-2-2-2zM9 17H7v-7h2v7zm4 0h-2V7h2v10zm4 0h-2v-4h2v4z\"/>\n",
              "    </g>\n",
              "</svg>\n",
              "  </button>\n",
              "\n",
              "<style>\n",
              "  .colab-df-quickchart {\n",
              "      --bg-color: #E8F0FE;\n",
              "      --fill-color: #1967D2;\n",
              "      --hover-bg-color: #E2EBFA;\n",
              "      --hover-fill-color: #174EA6;\n",
              "      --disabled-fill-color: #AAA;\n",
              "      --disabled-bg-color: #DDD;\n",
              "  }\n",
              "\n",
              "  [theme=dark] .colab-df-quickchart {\n",
              "      --bg-color: #3B4455;\n",
              "      --fill-color: #D2E3FC;\n",
              "      --hover-bg-color: #434B5C;\n",
              "      --hover-fill-color: #FFFFFF;\n",
              "      --disabled-bg-color: #3B4455;\n",
              "      --disabled-fill-color: #666;\n",
              "  }\n",
              "\n",
              "  .colab-df-quickchart {\n",
              "    background-color: var(--bg-color);\n",
              "    border: none;\n",
              "    border-radius: 50%;\n",
              "    cursor: pointer;\n",
              "    display: none;\n",
              "    fill: var(--fill-color);\n",
              "    height: 32px;\n",
              "    padding: 0;\n",
              "    width: 32px;\n",
              "  }\n",
              "\n",
              "  .colab-df-quickchart:hover {\n",
              "    background-color: var(--hover-bg-color);\n",
              "    box-shadow: 0 1px 2px rgba(60, 64, 67, 0.3), 0 1px 3px 1px rgba(60, 64, 67, 0.15);\n",
              "    fill: var(--button-hover-fill-color);\n",
              "  }\n",
              "\n",
              "  .colab-df-quickchart-complete:disabled,\n",
              "  .colab-df-quickchart-complete:disabled:hover {\n",
              "    background-color: var(--disabled-bg-color);\n",
              "    fill: var(--disabled-fill-color);\n",
              "    box-shadow: none;\n",
              "  }\n",
              "\n",
              "  .colab-df-spinner {\n",
              "    border: 2px solid var(--fill-color);\n",
              "    border-color: transparent;\n",
              "    border-bottom-color: var(--fill-color);\n",
              "    animation:\n",
              "      spin 1s steps(1) infinite;\n",
              "  }\n",
              "\n",
              "  @keyframes spin {\n",
              "    0% {\n",
              "      border-color: transparent;\n",
              "      border-bottom-color: var(--fill-color);\n",
              "      border-left-color: var(--fill-color);\n",
              "    }\n",
              "    20% {\n",
              "      border-color: transparent;\n",
              "      border-left-color: var(--fill-color);\n",
              "      border-top-color: var(--fill-color);\n",
              "    }\n",
              "    30% {\n",
              "      border-color: transparent;\n",
              "      border-left-color: var(--fill-color);\n",
              "      border-top-color: var(--fill-color);\n",
              "      border-right-color: var(--fill-color);\n",
              "    }\n",
              "    40% {\n",
              "      border-color: transparent;\n",
              "      border-right-color: var(--fill-color);\n",
              "      border-top-color: var(--fill-color);\n",
              "    }\n",
              "    60% {\n",
              "      border-color: transparent;\n",
              "      border-right-color: var(--fill-color);\n",
              "    }\n",
              "    80% {\n",
              "      border-color: transparent;\n",
              "      border-right-color: var(--fill-color);\n",
              "      border-bottom-color: var(--fill-color);\n",
              "    }\n",
              "    90% {\n",
              "      border-color: transparent;\n",
              "      border-bottom-color: var(--fill-color);\n",
              "    }\n",
              "  }\n",
              "</style>\n",
              "\n",
              "  <script>\n",
              "    async function quickchart(key) {\n",
              "      const quickchartButtonEl =\n",
              "        document.querySelector('#' + key + ' button');\n",
              "      quickchartButtonEl.disabled = true;  // To prevent multiple clicks.\n",
              "      quickchartButtonEl.classList.add('colab-df-spinner');\n",
              "      try {\n",
              "        const charts = await google.colab.kernel.invokeFunction(\n",
              "            'suggestCharts', [key], {});\n",
              "      } catch (error) {\n",
              "        console.error('Error during call to suggestCharts:', error);\n",
              "      }\n",
              "      quickchartButtonEl.classList.remove('colab-df-spinner');\n",
              "      quickchartButtonEl.classList.add('colab-df-quickchart-complete');\n",
              "    }\n",
              "    (() => {\n",
              "      let quickchartButtonEl =\n",
              "        document.querySelector('#df-eadbced0-bacc-4af9-bc1f-851c8b07ed2b button');\n",
              "      quickchartButtonEl.style.display =\n",
              "        google.colab.kernel.accessAllowed ? 'block' : 'none';\n",
              "    })();\n",
              "  </script>\n",
              "</div>\n",
              "    </div>\n",
              "  </div>\n"
            ]
          },
          "metadata": {},
          "execution_count": 31
        }
      ]
    },
    {
      "cell_type": "code",
      "source": [
        "final_results = pd.DataFrame(columns=['VAERS_ID', 'Generated_Response'])\n",
        "# , 'Symptoms_actual', 'Symptoms_extracted',"
      ],
      "metadata": {
        "id": "EBMTkheJeICB"
      },
      "execution_count": null,
      "outputs": []
    },
    {
      "cell_type": "code",
      "source": [
        "# for _ , j in final.iterrows():\n",
        "#    prompt = f\"Link the following symptoms to their corresponding or relevant standard symptoms by having format as a dic of Symptoms_extracted and Symptoms_actual:\\n\\nSymptoms: {j['Symptoms_extracted']}\\n\\nStandard Symptoms: {j['Symptoms_actual']}\\n\\n\"\n",
        "#    response = openai.ChatCompletion.create(model='gpt-3.5-turbo',messages=[{\"role\": \"system\", \"content\": \"You are a helpful assistant that links Symptoms_extracted to corresponding or relevant standard symptoms.\"},{\"role\": \"user\", \"content\": prompt}])\n",
        "#    linked_information = response['choices'][0]['message']['content']\n",
        "#    final_results = final_results.append({\n",
        "#         'VAERS_ID': j['VAERS_ID'],\n",
        "#         # 'Symptoms_actual': j['Symptoms_actual'],\n",
        "#         # 'Symptoms_extracted': j['Symptoms_extracted'],\n",
        "#         'Generated_Response': [linked_information]\n",
        "#     }, ignore_index=True)\n"
      ],
      "metadata": {
        "id": "PAZMcIePl8eF"
      },
      "execution_count": null,
      "outputs": []
    },
    {
      "cell_type": "code",
      "source": [
        "for _ , j in final.iterrows():\n",
        "   prompt = f\"Predict Standard Symptoms for Symptoms_extracted with context of Standard Symptoms and store into list:\\n\\nSymptoms: {j['Symptoms_extracted']}\\n\\nStandard Symptoms: {j['Symptoms_actual']}\\n\\n\"\n",
        "   response = openai.ChatCompletion.create(model='gpt-3.5-turbo',messages=[{\"role\": \"system\", \"content\": \"You are a helpful assistant that links Symptoms_extracted to corresponding or relevant standard symptoms.\"},{\"role\": \"user\", \"content\": prompt}])\n",
        "   linked_information = response['choices'][0]['message']['content']\n",
        "   final_results = final_results.append({\n",
        "        'VAERS_ID': j['VAERS_ID'],\n",
        "        # 'Symptoms_actual': j['Symptoms_actual'],\n",
        "        # 'Symptoms_extracted': j['Symptoms_extracted'],\n",
        "        'Generated_Response': [linked_information]\n",
        "    }, ignore_index=True)"
      ],
      "metadata": {
        "colab": {
          "base_uri": "https://localhost:8080/"
        },
        "id": "HcNbN7FaJ9La",
        "outputId": "a7657e79-ef92-4c42-c5b8-60c9bc0e910a"
      },
      "execution_count": null,
      "outputs": [
        {
          "output_type": "stream",
          "name": "stderr",
          "text": [
            "<ipython-input-34-1bb7fdcce259>:5: FutureWarning: The frame.append method is deprecated and will be removed from pandas in a future version. Use pandas.concat instead.\n",
            "  final_results = final_results.append({\n",
            "<ipython-input-34-1bb7fdcce259>:5: FutureWarning: The frame.append method is deprecated and will be removed from pandas in a future version. Use pandas.concat instead.\n",
            "  final_results = final_results.append({\n",
            "<ipython-input-34-1bb7fdcce259>:5: FutureWarning: The frame.append method is deprecated and will be removed from pandas in a future version. Use pandas.concat instead.\n",
            "  final_results = final_results.append({\n",
            "<ipython-input-34-1bb7fdcce259>:5: FutureWarning: The frame.append method is deprecated and will be removed from pandas in a future version. Use pandas.concat instead.\n",
            "  final_results = final_results.append({\n",
            "<ipython-input-34-1bb7fdcce259>:5: FutureWarning: The frame.append method is deprecated and will be removed from pandas in a future version. Use pandas.concat instead.\n",
            "  final_results = final_results.append({\n",
            "<ipython-input-34-1bb7fdcce259>:5: FutureWarning: The frame.append method is deprecated and will be removed from pandas in a future version. Use pandas.concat instead.\n",
            "  final_results = final_results.append({\n",
            "<ipython-input-34-1bb7fdcce259>:5: FutureWarning: The frame.append method is deprecated and will be removed from pandas in a future version. Use pandas.concat instead.\n",
            "  final_results = final_results.append({\n",
            "<ipython-input-34-1bb7fdcce259>:5: FutureWarning: The frame.append method is deprecated and will be removed from pandas in a future version. Use pandas.concat instead.\n",
            "  final_results = final_results.append({\n",
            "<ipython-input-34-1bb7fdcce259>:5: FutureWarning: The frame.append method is deprecated and will be removed from pandas in a future version. Use pandas.concat instead.\n",
            "  final_results = final_results.append({\n",
            "<ipython-input-34-1bb7fdcce259>:5: FutureWarning: The frame.append method is deprecated and will be removed from pandas in a future version. Use pandas.concat instead.\n",
            "  final_results = final_results.append({\n",
            "<ipython-input-34-1bb7fdcce259>:5: FutureWarning: The frame.append method is deprecated and will be removed from pandas in a future version. Use pandas.concat instead.\n",
            "  final_results = final_results.append({\n",
            "<ipython-input-34-1bb7fdcce259>:5: FutureWarning: The frame.append method is deprecated and will be removed from pandas in a future version. Use pandas.concat instead.\n",
            "  final_results = final_results.append({\n",
            "<ipython-input-34-1bb7fdcce259>:5: FutureWarning: The frame.append method is deprecated and will be removed from pandas in a future version. Use pandas.concat instead.\n",
            "  final_results = final_results.append({\n",
            "<ipython-input-34-1bb7fdcce259>:5: FutureWarning: The frame.append method is deprecated and will be removed from pandas in a future version. Use pandas.concat instead.\n",
            "  final_results = final_results.append({\n",
            "<ipython-input-34-1bb7fdcce259>:5: FutureWarning: The frame.append method is deprecated and will be removed from pandas in a future version. Use pandas.concat instead.\n",
            "  final_results = final_results.append({\n"
          ]
        }
      ]
    },
    {
      "cell_type": "code",
      "source": [
        "final_results['Generated_Response'].values"
      ],
      "metadata": {
        "colab": {
          "base_uri": "https://localhost:8080/"
        },
        "id": "Pem3BBmuK6aM",
        "outputId": "997d5a4b-d9fc-4a9e-dccd-e1f95218253e"
      },
      "execution_count": null,
      "outputs": [
        {
          "output_type": "execute_result",
          "data": {
            "text/plain": [
              "array([list([\"Predicted Standard Symptoms: ['Dysmenorrhoea', 'Dysmenorrhoea', 'Menstruation irregular', 'Menstruation irregular', 'Dysmenorrhoea', 'Heavy menstrual bleeding', 'Menstruation irregular']\"]),\n",
              "       list([\"Predicted Standard Symptoms: ['Heavy menstrual bleeding', 'Oligomenorrhoea']\"]),\n",
              "       list([\"Predicted Standard Symptoms: ['Fatigue', 'Pain', 'Chills']\"]),\n",
              "       list([\"Predicted Standard Symptoms for Symptoms_extracted:\\n\\nPredicted Standard Symptoms: ['Diarrhoea', 'Thyroid disorder', 'Mononucleosis', 'Activated immune system viral complications']\"]),\n",
              "       list([\"Standard Symptoms: ['Fatigue', 'Immunisation', 'Lymphadenopathy', 'Rhinorrhoea', 'Vaccination site pain']\\n\\nPredicted Standard Symptoms for Symptoms_extracted: \\n\\n['Fatigue', 'Rhinorrhoea', 'Lymphadenopathy', 'Vaccination site pain']\"]),\n",
              "       list([\"Predicted Standard Symptoms for Symptoms_extracted:\\n\\n['Drug eruption', 'Rash']\"]),\n",
              "       list([\"Predicted Standard Symptoms: ['Pyrexia', 'Pain']\"]),\n",
              "       list([\"Predicted Standard Symptoms: ['Fatigue', 'Vaccination site pain', 'Headache']\"]),\n",
              "       list([\"Predicted Standard Symptoms: ['Vomiting']\"]),\n",
              "       list([\"Predicted Standard Symptoms:\\n\\n['Abdominal pain upper', 'Stomach issues']\"]),\n",
              "       list([\"Predicted Standard Symptoms: ['Hypertension', 'Hypertension']\"]),\n",
              "       list([\"Predicted Standard Symptoms: ['Heart rate increased', 'Palpitations']\"]),\n",
              "       list([\"Predicted Standard Symptoms based on the given context:\\n\\n['Lymph node pain', 'Fatigue', 'Lymphadenopathy', 'Myalgia', 'Pain']\"]),\n",
              "       list(['Predicted Standard Symptoms:\\n1. Chest pain\\n2. Joint pain\\n3. Decreased mobility\\n4. Lymphadenopathy\\n5. Pain\\n6. Swollen lymph nodes in the armpit']),\n",
              "       list([\"Standard Symptoms Predicted: ['Fatigue', 'Headache', 'Fatigue', 'Headache']\"])],\n",
              "      dtype=object)"
            ]
          },
          "metadata": {},
          "execution_count": 35
        }
      ]
    },
    {
      "cell_type": "code",
      "source": [
        "final_results.to_csv('final2.csv')"
      ],
      "metadata": {
        "id": "jBIX-HfmLheP"
      },
      "execution_count": null,
      "outputs": []
    },
    {
      "cell_type": "code",
      "source": [
        "o1 = pd.read_csv('/content/final1.csv')\n",
        "o2 = pd.read_csv('/content/final2.csv')"
      ],
      "metadata": {
        "id": "H1EYqZ0kL0Kd"
      },
      "execution_count": null,
      "outputs": []
    },
    {
      "cell_type": "code",
      "source": [
        "o1 = pd.concat([o1, o2], ignore_index=True)"
      ],
      "metadata": {
        "id": "iUxrpVjpMaOi"
      },
      "execution_count": null,
      "outputs": []
    },
    {
      "cell_type": "code",
      "source": [
        "o1"
      ],
      "metadata": {
        "colab": {
          "base_uri": "https://localhost:8080/",
          "height": 990
        },
        "id": "JDwNsM0JPKU2",
        "outputId": "7b314609-584a-448e-e374-a4b7fb484e7d"
      },
      "execution_count": null,
      "outputs": [
        {
          "output_type": "execute_result",
          "data": {
            "text/plain": [
              "    Unnamed: 0  VAERS_ID                                 Generated_Response\n",
              "0            0   1996891  [\"Predicted Standard Symptoms: ['Fatigue', 'Pa...\n",
              "1            1   1996892  [\"Predicted Standard Symptoms: ['Headache', 'F...\n",
              "2            2   1996893  [\"Predicted Standard Symptoms for Symptoms_ext...\n",
              "3            3   1996894  [\"Predicted Standard Symptoms: ['Fever', 'Musc...\n",
              "4            4   1996896  [\"Predicted Standard Symptoms: ['Lymphadenopat...\n",
              "5            5   1996897  [\"Predicted Standard Symptoms:\\n\\n['Feeling ab...\n",
              "6            6   1996898  [\"Predicted Standard Symptoms:\\n- 'Urinary Tra...\n",
              "7            7   1996899  [\"Predicted Standard Symptoms: ['Headache', 'D...\n",
              "8            8   1996900  [\"Predicted standard symptoms for Symptoms_ext...\n",
              "9            9   1996901  [\"Predicted Standard Symptoms: ['Rash', 'Urtic...\n",
              "10          10   1996902  [\"Standard Symptoms for the given Symptoms_ext...\n",
              "11          11   1996903  [\"Standard Symptoms for Symptoms_extracted:\\n\\...\n",
              "12          12   1996904  [\"Predicted Standard Symptoms: ['Fatigue', 'In...\n",
              "13          13   1996905  [\"Predicted Standard Symptoms: ['Body temperat...\n",
              "14          14   1996906  [\"Predicted Standard Symptoms for Symptoms_ext...\n",
              "15           0   1996876  [\"Predicted Standard Symptoms: ['Dysmenorrhoea...\n",
              "16           1   1996877  [\"Predicted Standard Symptoms: ['Heavy menstru...\n",
              "17           2   1996878  [\"Predicted Standard Symptoms: ['Fatigue', 'Pa...\n",
              "18           3   1996879  [\"Predicted Standard Symptoms for Symptoms_ext...\n",
              "19           4   1996880  [\"Standard Symptoms: ['Fatigue', 'Immunisation...\n",
              "20           5   1996881  [\"Predicted Standard Symptoms for Symptoms_ext...\n",
              "21           6   1996882  [\"Predicted Standard Symptoms: ['Pyrexia', 'Pa...\n",
              "22           7   1996883  [\"Predicted Standard Symptoms: ['Fatigue', 'Va...\n",
              "23           8   1996884      [\"Predicted Standard Symptoms: ['Vomiting']\"]\n",
              "24           9   1996885  [\"Predicted Standard Symptoms:\\n\\n['Abdominal ...\n",
              "25          10   1996886  [\"Predicted Standard Symptoms: ['Hypertension'...\n",
              "26          11   1996887  [\"Predicted Standard Symptoms: ['Heart rate in...\n",
              "27          12   1996888  [\"Predicted Standard Symptoms based on the giv...\n",
              "28          13   1996889  ['Predicted Standard Symptoms:\\n1. Chest pain\\...\n",
              "29          14   1996890  [\"Standard Symptoms Predicted: ['Fatigue', 'He..."
            ],
            "text/html": [
              "\n",
              "  <div id=\"df-fbfb1229-d50f-41ff-9a19-31d5eee4551f\" class=\"colab-df-container\">\n",
              "    <div>\n",
              "<style scoped>\n",
              "    .dataframe tbody tr th:only-of-type {\n",
              "        vertical-align: middle;\n",
              "    }\n",
              "\n",
              "    .dataframe tbody tr th {\n",
              "        vertical-align: top;\n",
              "    }\n",
              "\n",
              "    .dataframe thead th {\n",
              "        text-align: right;\n",
              "    }\n",
              "</style>\n",
              "<table border=\"1\" class=\"dataframe\">\n",
              "  <thead>\n",
              "    <tr style=\"text-align: right;\">\n",
              "      <th></th>\n",
              "      <th>Unnamed: 0</th>\n",
              "      <th>VAERS_ID</th>\n",
              "      <th>Generated_Response</th>\n",
              "    </tr>\n",
              "  </thead>\n",
              "  <tbody>\n",
              "    <tr>\n",
              "      <th>0</th>\n",
              "      <td>0</td>\n",
              "      <td>1996891</td>\n",
              "      <td>[\"Predicted Standard Symptoms: ['Fatigue', 'Pa...</td>\n",
              "    </tr>\n",
              "    <tr>\n",
              "      <th>1</th>\n",
              "      <td>1</td>\n",
              "      <td>1996892</td>\n",
              "      <td>[\"Predicted Standard Symptoms: ['Headache', 'F...</td>\n",
              "    </tr>\n",
              "    <tr>\n",
              "      <th>2</th>\n",
              "      <td>2</td>\n",
              "      <td>1996893</td>\n",
              "      <td>[\"Predicted Standard Symptoms for Symptoms_ext...</td>\n",
              "    </tr>\n",
              "    <tr>\n",
              "      <th>3</th>\n",
              "      <td>3</td>\n",
              "      <td>1996894</td>\n",
              "      <td>[\"Predicted Standard Symptoms: ['Fever', 'Musc...</td>\n",
              "    </tr>\n",
              "    <tr>\n",
              "      <th>4</th>\n",
              "      <td>4</td>\n",
              "      <td>1996896</td>\n",
              "      <td>[\"Predicted Standard Symptoms: ['Lymphadenopat...</td>\n",
              "    </tr>\n",
              "    <tr>\n",
              "      <th>5</th>\n",
              "      <td>5</td>\n",
              "      <td>1996897</td>\n",
              "      <td>[\"Predicted Standard Symptoms:\\n\\n['Feeling ab...</td>\n",
              "    </tr>\n",
              "    <tr>\n",
              "      <th>6</th>\n",
              "      <td>6</td>\n",
              "      <td>1996898</td>\n",
              "      <td>[\"Predicted Standard Symptoms:\\n- 'Urinary Tra...</td>\n",
              "    </tr>\n",
              "    <tr>\n",
              "      <th>7</th>\n",
              "      <td>7</td>\n",
              "      <td>1996899</td>\n",
              "      <td>[\"Predicted Standard Symptoms: ['Headache', 'D...</td>\n",
              "    </tr>\n",
              "    <tr>\n",
              "      <th>8</th>\n",
              "      <td>8</td>\n",
              "      <td>1996900</td>\n",
              "      <td>[\"Predicted standard symptoms for Symptoms_ext...</td>\n",
              "    </tr>\n",
              "    <tr>\n",
              "      <th>9</th>\n",
              "      <td>9</td>\n",
              "      <td>1996901</td>\n",
              "      <td>[\"Predicted Standard Symptoms: ['Rash', 'Urtic...</td>\n",
              "    </tr>\n",
              "    <tr>\n",
              "      <th>10</th>\n",
              "      <td>10</td>\n",
              "      <td>1996902</td>\n",
              "      <td>[\"Standard Symptoms for the given Symptoms_ext...</td>\n",
              "    </tr>\n",
              "    <tr>\n",
              "      <th>11</th>\n",
              "      <td>11</td>\n",
              "      <td>1996903</td>\n",
              "      <td>[\"Standard Symptoms for Symptoms_extracted:\\n\\...</td>\n",
              "    </tr>\n",
              "    <tr>\n",
              "      <th>12</th>\n",
              "      <td>12</td>\n",
              "      <td>1996904</td>\n",
              "      <td>[\"Predicted Standard Symptoms: ['Fatigue', 'In...</td>\n",
              "    </tr>\n",
              "    <tr>\n",
              "      <th>13</th>\n",
              "      <td>13</td>\n",
              "      <td>1996905</td>\n",
              "      <td>[\"Predicted Standard Symptoms: ['Body temperat...</td>\n",
              "    </tr>\n",
              "    <tr>\n",
              "      <th>14</th>\n",
              "      <td>14</td>\n",
              "      <td>1996906</td>\n",
              "      <td>[\"Predicted Standard Symptoms for Symptoms_ext...</td>\n",
              "    </tr>\n",
              "    <tr>\n",
              "      <th>15</th>\n",
              "      <td>0</td>\n",
              "      <td>1996876</td>\n",
              "      <td>[\"Predicted Standard Symptoms: ['Dysmenorrhoea...</td>\n",
              "    </tr>\n",
              "    <tr>\n",
              "      <th>16</th>\n",
              "      <td>1</td>\n",
              "      <td>1996877</td>\n",
              "      <td>[\"Predicted Standard Symptoms: ['Heavy menstru...</td>\n",
              "    </tr>\n",
              "    <tr>\n",
              "      <th>17</th>\n",
              "      <td>2</td>\n",
              "      <td>1996878</td>\n",
              "      <td>[\"Predicted Standard Symptoms: ['Fatigue', 'Pa...</td>\n",
              "    </tr>\n",
              "    <tr>\n",
              "      <th>18</th>\n",
              "      <td>3</td>\n",
              "      <td>1996879</td>\n",
              "      <td>[\"Predicted Standard Symptoms for Symptoms_ext...</td>\n",
              "    </tr>\n",
              "    <tr>\n",
              "      <th>19</th>\n",
              "      <td>4</td>\n",
              "      <td>1996880</td>\n",
              "      <td>[\"Standard Symptoms: ['Fatigue', 'Immunisation...</td>\n",
              "    </tr>\n",
              "    <tr>\n",
              "      <th>20</th>\n",
              "      <td>5</td>\n",
              "      <td>1996881</td>\n",
              "      <td>[\"Predicted Standard Symptoms for Symptoms_ext...</td>\n",
              "    </tr>\n",
              "    <tr>\n",
              "      <th>21</th>\n",
              "      <td>6</td>\n",
              "      <td>1996882</td>\n",
              "      <td>[\"Predicted Standard Symptoms: ['Pyrexia', 'Pa...</td>\n",
              "    </tr>\n",
              "    <tr>\n",
              "      <th>22</th>\n",
              "      <td>7</td>\n",
              "      <td>1996883</td>\n",
              "      <td>[\"Predicted Standard Symptoms: ['Fatigue', 'Va...</td>\n",
              "    </tr>\n",
              "    <tr>\n",
              "      <th>23</th>\n",
              "      <td>8</td>\n",
              "      <td>1996884</td>\n",
              "      <td>[\"Predicted Standard Symptoms: ['Vomiting']\"]</td>\n",
              "    </tr>\n",
              "    <tr>\n",
              "      <th>24</th>\n",
              "      <td>9</td>\n",
              "      <td>1996885</td>\n",
              "      <td>[\"Predicted Standard Symptoms:\\n\\n['Abdominal ...</td>\n",
              "    </tr>\n",
              "    <tr>\n",
              "      <th>25</th>\n",
              "      <td>10</td>\n",
              "      <td>1996886</td>\n",
              "      <td>[\"Predicted Standard Symptoms: ['Hypertension'...</td>\n",
              "    </tr>\n",
              "    <tr>\n",
              "      <th>26</th>\n",
              "      <td>11</td>\n",
              "      <td>1996887</td>\n",
              "      <td>[\"Predicted Standard Symptoms: ['Heart rate in...</td>\n",
              "    </tr>\n",
              "    <tr>\n",
              "      <th>27</th>\n",
              "      <td>12</td>\n",
              "      <td>1996888</td>\n",
              "      <td>[\"Predicted Standard Symptoms based on the giv...</td>\n",
              "    </tr>\n",
              "    <tr>\n",
              "      <th>28</th>\n",
              "      <td>13</td>\n",
              "      <td>1996889</td>\n",
              "      <td>['Predicted Standard Symptoms:\\n1. Chest pain\\...</td>\n",
              "    </tr>\n",
              "    <tr>\n",
              "      <th>29</th>\n",
              "      <td>14</td>\n",
              "      <td>1996890</td>\n",
              "      <td>[\"Standard Symptoms Predicted: ['Fatigue', 'He...</td>\n",
              "    </tr>\n",
              "  </tbody>\n",
              "</table>\n",
              "</div>\n",
              "    <div class=\"colab-df-buttons\">\n",
              "\n",
              "  <div class=\"colab-df-container\">\n",
              "    <button class=\"colab-df-convert\" onclick=\"convertToInteractive('df-fbfb1229-d50f-41ff-9a19-31d5eee4551f')\"\n",
              "            title=\"Convert this dataframe to an interactive table.\"\n",
              "            style=\"display:none;\">\n",
              "\n",
              "  <svg xmlns=\"http://www.w3.org/2000/svg\" height=\"24px\" viewBox=\"0 -960 960 960\">\n",
              "    <path d=\"M120-120v-720h720v720H120Zm60-500h600v-160H180v160Zm220 220h160v-160H400v160Zm0 220h160v-160H400v160ZM180-400h160v-160H180v160Zm440 0h160v-160H620v160ZM180-180h160v-160H180v160Zm440 0h160v-160H620v160Z\"/>\n",
              "  </svg>\n",
              "    </button>\n",
              "\n",
              "  <style>\n",
              "    .colab-df-container {\n",
              "      display:flex;\n",
              "      gap: 12px;\n",
              "    }\n",
              "\n",
              "    .colab-df-convert {\n",
              "      background-color: #E8F0FE;\n",
              "      border: none;\n",
              "      border-radius: 50%;\n",
              "      cursor: pointer;\n",
              "      display: none;\n",
              "      fill: #1967D2;\n",
              "      height: 32px;\n",
              "      padding: 0 0 0 0;\n",
              "      width: 32px;\n",
              "    }\n",
              "\n",
              "    .colab-df-convert:hover {\n",
              "      background-color: #E2EBFA;\n",
              "      box-shadow: 0px 1px 2px rgba(60, 64, 67, 0.3), 0px 1px 3px 1px rgba(60, 64, 67, 0.15);\n",
              "      fill: #174EA6;\n",
              "    }\n",
              "\n",
              "    .colab-df-buttons div {\n",
              "      margin-bottom: 4px;\n",
              "    }\n",
              "\n",
              "    [theme=dark] .colab-df-convert {\n",
              "      background-color: #3B4455;\n",
              "      fill: #D2E3FC;\n",
              "    }\n",
              "\n",
              "    [theme=dark] .colab-df-convert:hover {\n",
              "      background-color: #434B5C;\n",
              "      box-shadow: 0px 1px 3px 1px rgba(0, 0, 0, 0.15);\n",
              "      filter: drop-shadow(0px 1px 2px rgba(0, 0, 0, 0.3));\n",
              "      fill: #FFFFFF;\n",
              "    }\n",
              "  </style>\n",
              "\n",
              "    <script>\n",
              "      const buttonEl =\n",
              "        document.querySelector('#df-fbfb1229-d50f-41ff-9a19-31d5eee4551f button.colab-df-convert');\n",
              "      buttonEl.style.display =\n",
              "        google.colab.kernel.accessAllowed ? 'block' : 'none';\n",
              "\n",
              "      async function convertToInteractive(key) {\n",
              "        const element = document.querySelector('#df-fbfb1229-d50f-41ff-9a19-31d5eee4551f');\n",
              "        const dataTable =\n",
              "          await google.colab.kernel.invokeFunction('convertToInteractive',\n",
              "                                                    [key], {});\n",
              "        if (!dataTable) return;\n",
              "\n",
              "        const docLinkHtml = 'Like what you see? Visit the ' +\n",
              "          '<a target=\"_blank\" href=https://colab.research.google.com/notebooks/data_table.ipynb>data table notebook</a>'\n",
              "          + ' to learn more about interactive tables.';\n",
              "        element.innerHTML = '';\n",
              "        dataTable['output_type'] = 'display_data';\n",
              "        await google.colab.output.renderOutput(dataTable, element);\n",
              "        const docLink = document.createElement('div');\n",
              "        docLink.innerHTML = docLinkHtml;\n",
              "        element.appendChild(docLink);\n",
              "      }\n",
              "    </script>\n",
              "  </div>\n",
              "\n",
              "\n",
              "<div id=\"df-ec41dc89-ef05-441c-9be8-e294743b0cb9\">\n",
              "  <button class=\"colab-df-quickchart\" onclick=\"quickchart('df-ec41dc89-ef05-441c-9be8-e294743b0cb9')\"\n",
              "            title=\"Suggest charts\"\n",
              "            style=\"display:none;\">\n",
              "\n",
              "<svg xmlns=\"http://www.w3.org/2000/svg\" height=\"24px\"viewBox=\"0 0 24 24\"\n",
              "     width=\"24px\">\n",
              "    <g>\n",
              "        <path d=\"M19 3H5c-1.1 0-2 .9-2 2v14c0 1.1.9 2 2 2h14c1.1 0 2-.9 2-2V5c0-1.1-.9-2-2-2zM9 17H7v-7h2v7zm4 0h-2V7h2v10zm4 0h-2v-4h2v4z\"/>\n",
              "    </g>\n",
              "</svg>\n",
              "  </button>\n",
              "\n",
              "<style>\n",
              "  .colab-df-quickchart {\n",
              "      --bg-color: #E8F0FE;\n",
              "      --fill-color: #1967D2;\n",
              "      --hover-bg-color: #E2EBFA;\n",
              "      --hover-fill-color: #174EA6;\n",
              "      --disabled-fill-color: #AAA;\n",
              "      --disabled-bg-color: #DDD;\n",
              "  }\n",
              "\n",
              "  [theme=dark] .colab-df-quickchart {\n",
              "      --bg-color: #3B4455;\n",
              "      --fill-color: #D2E3FC;\n",
              "      --hover-bg-color: #434B5C;\n",
              "      --hover-fill-color: #FFFFFF;\n",
              "      --disabled-bg-color: #3B4455;\n",
              "      --disabled-fill-color: #666;\n",
              "  }\n",
              "\n",
              "  .colab-df-quickchart {\n",
              "    background-color: var(--bg-color);\n",
              "    border: none;\n",
              "    border-radius: 50%;\n",
              "    cursor: pointer;\n",
              "    display: none;\n",
              "    fill: var(--fill-color);\n",
              "    height: 32px;\n",
              "    padding: 0;\n",
              "    width: 32px;\n",
              "  }\n",
              "\n",
              "  .colab-df-quickchart:hover {\n",
              "    background-color: var(--hover-bg-color);\n",
              "    box-shadow: 0 1px 2px rgba(60, 64, 67, 0.3), 0 1px 3px 1px rgba(60, 64, 67, 0.15);\n",
              "    fill: var(--button-hover-fill-color);\n",
              "  }\n",
              "\n",
              "  .colab-df-quickchart-complete:disabled,\n",
              "  .colab-df-quickchart-complete:disabled:hover {\n",
              "    background-color: var(--disabled-bg-color);\n",
              "    fill: var(--disabled-fill-color);\n",
              "    box-shadow: none;\n",
              "  }\n",
              "\n",
              "  .colab-df-spinner {\n",
              "    border: 2px solid var(--fill-color);\n",
              "    border-color: transparent;\n",
              "    border-bottom-color: var(--fill-color);\n",
              "    animation:\n",
              "      spin 1s steps(1) infinite;\n",
              "  }\n",
              "\n",
              "  @keyframes spin {\n",
              "    0% {\n",
              "      border-color: transparent;\n",
              "      border-bottom-color: var(--fill-color);\n",
              "      border-left-color: var(--fill-color);\n",
              "    }\n",
              "    20% {\n",
              "      border-color: transparent;\n",
              "      border-left-color: var(--fill-color);\n",
              "      border-top-color: var(--fill-color);\n",
              "    }\n",
              "    30% {\n",
              "      border-color: transparent;\n",
              "      border-left-color: var(--fill-color);\n",
              "      border-top-color: var(--fill-color);\n",
              "      border-right-color: var(--fill-color);\n",
              "    }\n",
              "    40% {\n",
              "      border-color: transparent;\n",
              "      border-right-color: var(--fill-color);\n",
              "      border-top-color: var(--fill-color);\n",
              "    }\n",
              "    60% {\n",
              "      border-color: transparent;\n",
              "      border-right-color: var(--fill-color);\n",
              "    }\n",
              "    80% {\n",
              "      border-color: transparent;\n",
              "      border-right-color: var(--fill-color);\n",
              "      border-bottom-color: var(--fill-color);\n",
              "    }\n",
              "    90% {\n",
              "      border-color: transparent;\n",
              "      border-bottom-color: var(--fill-color);\n",
              "    }\n",
              "  }\n",
              "</style>\n",
              "\n",
              "  <script>\n",
              "    async function quickchart(key) {\n",
              "      const quickchartButtonEl =\n",
              "        document.querySelector('#' + key + ' button');\n",
              "      quickchartButtonEl.disabled = true;  // To prevent multiple clicks.\n",
              "      quickchartButtonEl.classList.add('colab-df-spinner');\n",
              "      try {\n",
              "        const charts = await google.colab.kernel.invokeFunction(\n",
              "            'suggestCharts', [key], {});\n",
              "      } catch (error) {\n",
              "        console.error('Error during call to suggestCharts:', error);\n",
              "      }\n",
              "      quickchartButtonEl.classList.remove('colab-df-spinner');\n",
              "      quickchartButtonEl.classList.add('colab-df-quickchart-complete');\n",
              "    }\n",
              "    (() => {\n",
              "      let quickchartButtonEl =\n",
              "        document.querySelector('#df-ec41dc89-ef05-441c-9be8-e294743b0cb9 button');\n",
              "      quickchartButtonEl.style.display =\n",
              "        google.colab.kernel.accessAllowed ? 'block' : 'none';\n",
              "    })();\n",
              "  </script>\n",
              "</div>\n",
              "    </div>\n",
              "  </div>\n"
            ]
          },
          "metadata": {},
          "execution_count": 65
        }
      ]
    },
    {
      "cell_type": "code",
      "source": [
        "f1 = data_.iloc[:30]"
      ],
      "metadata": {
        "id": "e4GIfzjdPSYt"
      },
      "execution_count": null,
      "outputs": []
    },
    {
      "cell_type": "code",
      "source": [
        "o1 = f1.merge(o1, on='VAERS_ID', how='left')"
      ],
      "metadata": {
        "id": "Pcrw1j5yMjy4"
      },
      "execution_count": null,
      "outputs": []
    },
    {
      "cell_type": "code",
      "source": [
        "o1.to_csv('finaloutput.csv')"
      ],
      "metadata": {
        "id": "Y-tTqyRSPIam"
      },
      "execution_count": null,
      "outputs": []
    },
    {
      "cell_type": "code",
      "source": [
        "import re"
      ],
      "metadata": {
        "id": "nfY3BQ0WNjCf"
      },
      "execution_count": null,
      "outputs": []
    },
    {
      "cell_type": "code",
      "source": [
        "for i, j in o1.iterrows():\n",
        "   symptoms_str = ast.literal_eval(j['Generated_Response'])\n",
        "  #  symptoms_str = symptoms_str[0]\n",
        "\n",
        "   # Use ast.literal_eval to safely evaluate the string as a list\n",
        "  #  symptoms_list = ast.literal_eval(symptoms_str)\n",
        "\n",
        "   print(symptoms_str)"
      ],
      "metadata": {
        "colab": {
          "base_uri": "https://localhost:8080/"
        },
        "id": "Dt7SKzobMnNo",
        "outputId": "eb97d0b9-0366-4f74-a176-86eb00f8a0ae"
      },
      "execution_count": null,
      "outputs": [
        {
          "output_type": "stream",
          "name": "stdout",
          "text": [
            "[\"Predicted Standard Symptoms: ['Dysmenorrhoea', 'Dysmenorrhoea', 'Menstruation irregular', 'Menstruation irregular', 'Dysmenorrhoea', 'Heavy menstrual bleeding', 'Menstruation irregular']\"]\n",
            "[\"Predicted Standard Symptoms: ['Heavy menstrual bleeding', 'Oligomenorrhoea']\"]\n",
            "[\"Predicted Standard Symptoms: ['Fatigue', 'Pain', 'Chills']\"]\n",
            "[\"Predicted Standard Symptoms for Symptoms_extracted:\\n\\nPredicted Standard Symptoms: ['Diarrhoea', 'Thyroid disorder', 'Mononucleosis', 'Activated immune system viral complications']\"]\n",
            "[\"Standard Symptoms: ['Fatigue', 'Immunisation', 'Lymphadenopathy', 'Rhinorrhoea', 'Vaccination site pain']\\n\\nPredicted Standard Symptoms for Symptoms_extracted: \\n\\n['Fatigue', 'Rhinorrhoea', 'Lymphadenopathy', 'Vaccination site pain']\"]\n",
            "[\"Predicted Standard Symptoms for Symptoms_extracted:\\n\\n['Drug eruption', 'Rash']\"]\n",
            "[\"Predicted Standard Symptoms: ['Pyrexia', 'Pain']\"]\n",
            "[\"Predicted Standard Symptoms: ['Fatigue', 'Vaccination site pain', 'Headache']\"]\n",
            "[\"Predicted Standard Symptoms: ['Vomiting']\"]\n",
            "[\"Predicted Standard Symptoms:\\n\\n['Abdominal pain upper', 'Stomach issues']\"]\n",
            "[\"Predicted Standard Symptoms: ['Hypertension', 'Hypertension']\"]\n",
            "[\"Predicted Standard Symptoms: ['Heart rate increased', 'Palpitations']\"]\n",
            "[\"Predicted Standard Symptoms based on the given context:\\n\\n['Lymph node pain', 'Fatigue', 'Lymphadenopathy', 'Myalgia', 'Pain']\"]\n",
            "['Predicted Standard Symptoms:\\n1. Chest pain\\n2. Joint pain\\n3. Decreased mobility\\n4. Lymphadenopathy\\n5. Pain\\n6. Swollen lymph nodes in the armpit']\n",
            "[\"Standard Symptoms Predicted: ['Fatigue', 'Headache', 'Fatigue', 'Headache']\"]\n",
            "[\"Predicted Standard Symptoms: ['Fatigue', 'Pain']\"]\n",
            "[\"Predicted Standard Symptoms: ['Headache', 'Fever', 'Pain', 'Sore muscles', 'Thrombocytopenia', 'Hypoaesthesia', 'Paraesthesia', 'Numbness', 'Tingling sensation', 'Chills']\"]\n",
            "[\"Predicted Standard Symptoms for Symptoms_extracted:\\n['Vision blurred', 'Heart rate abnormal']\"]\n",
            "[\"Predicted Standard Symptoms: ['Fever', 'Musculoskeletal pain', 'Nausea', 'Diarrhoea', 'General malaise', 'Neck pain']\"]\n",
            "[\"Predicted Standard Symptoms: ['Lymphadenopathy']\"]\n",
            "[\"Predicted Standard Symptoms:\\n\\n['Feeling abnormal', 'Mania', 'Mental disorder', 'Mood swings', 'Insomnia']\"]\n",
            "[\"Predicted Standard Symptoms:\\n- 'Urinary Tract Infection'\\n- 'Low Blood Pressure'\\n- 'Knee Pain'\\n- 'Back Pain'\\n- 'Ruptured Disc'\\n- 'Syncope'\"]\n",
            "[\"Predicted Standard Symptoms: ['Headache', 'Dizziness', 'Paranasal sinus discomfort']\"]\n",
            "[\"Predicted standard symptoms for Symptoms_extracted:\\n\\n- 'patient known allergies': Not related to any standard symptom.\\n- 'vaccination site pain': 'Vaccination site pain'.\\n- 'injection site pain': 'Vaccination site pain'.\\n- 'fatigue': 'Fatigue'.\\n- 'axillary pain': 'Axillary pain'.\\n\\nList of predicted standard symptoms: ['Vaccination site pain', 'Vaccination site pain', 'Fatigue', 'Axillary pain']\"]\n",
            "[\"Predicted Standard Symptoms: ['Rash', 'Urticaria']\\n\\nExplanation:\\n- 'urticaria' and 'rash' match directly with 'Rash' in the standard symptoms.\\n- 'hives rashes legs arms' matches with 'Urticaria' in the standard symptoms.\\n- 'patient known allergies' does not match directly with any standard symptom, so it is not included in the predicted standard symptoms.\"]\n",
            "[\"Standard Symptoms for the given Symptoms_extracted can be predicted as follows:\\n\\n['Rash', 'Itchiness']\"]\n",
            "[\"Standard Symptoms for Symptoms_extracted:\\n\\n['Axillary pain', 'Axillary pain', 'pain', 'Axillary mass', 'Axillary mass']\"]\n",
            "[\"Predicted Standard Symptoms: ['Fatigue', 'Influenza like illness']\"]\n",
            "[\"Predicted Standard Symptoms: ['Body temperature', 'Pyrexia', 'Nausea', 'Headache', 'Chills']\"]\n",
            "[\"Predicted Standard Symptoms for Symptoms_extracted:\\n\\n['Malaise', 'Hypersensitivity', 'Diarrhoea', 'Feeling abnormal', 'Sinus disorder', 'Pain', 'Rash', 'Diarrhoea', 'Headache', 'Malaise', 'Feeling abnormal', 'Pyrexia', 'Sinus disorder', 'Rash', 'Rash', 'Diarrhoea', 'Headache', 'Abdominal pain upper', 'Pain', 'Erythema', 'Rash', 'Pyrexia', 'Pain', 'Abdominal pain upper']\"]\n"
          ]
        }
      ]
    },
    {
      "cell_type": "code",
      "source": [
        "import ast\n"
      ],
      "metadata": {
        "id": "vdapEaJyM6qG"
      },
      "execution_count": null,
      "outputs": []
    }
  ],
  "metadata": {
    "colab": {
      "provenance": [],
      "gpuType": "T4"
    },
    "kernelspec": {
      "display_name": "Python 3",
      "name": "python3"
    },
    "language_info": {
      "codemirror_mode": {
        "name": "ipython",
        "version": 3
      },
      "file_extension": ".py",
      "mimetype": "text/x-python",
      "name": "python",
      "nbconvert_exporter": "python",
      "pygments_lexer": "ipython3",
      "version": "3.9.12"
    },
    "accelerator": "GPU"
  },
  "nbformat": 4,
  "nbformat_minor": 0
}