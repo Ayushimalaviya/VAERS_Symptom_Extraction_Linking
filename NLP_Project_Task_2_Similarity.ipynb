{
  "cells": [
    {
      "cell_type": "code",
      "execution_count": null,
      "metadata": {
        "id": "OpNMe7uAj7sK",
        "colab": {
          "base_uri": "https://localhost:8080/"
        },
        "outputId": "cbd1611e-677e-443d-9324-b35ffb7085ee"
      },
      "outputs": [
        {
          "output_type": "stream",
          "name": "stdout",
          "text": [
            "Mounted at /content/drive\n",
            "2019VAERSDATA.csv      2020VAERSVAX.csv       2022VAERSSYMPTOMS.csv  ft_100d_oa_all.tar.gz\n",
            "2019VAERSSYMPTOMS.csv  2021VAERSDATA.csv      2022VAERSVAX.csv\t     gl_100d_oa_all.tar.gz\n",
            "2019VAERSVAX.csv       2021VAERSSYMPTOMS.csv  2023VAERSDATA.csv\n",
            "2020VAERSDATA.csv      2021VAERSVAX.csv       2023VAERSSYMPTOMS.csv\n",
            "2020VAERSSYMPTOMS.csv  2022VAERSDATA.csv      2023VAERSVAX.csv\n"
          ]
        }
      ],
      "source": [
        "# from google.colab import drive\n",
        "# drive.mount('/content/drive')\n",
        "# !ls \"/content/drive/My Drive/NLP-Project\""
      ]
    },
    {
      "cell_type": "code",
      "execution_count": null,
      "metadata": {
        "id": "ztTOy6xjoXjx",
        "colab": {
          "base_uri": "https://localhost:8080/"
        },
        "outputId": "7764fbcc-8376-44cb-8b5f-871583a9f928"
      },
      "outputs": [
        {
          "output_type": "stream",
          "name": "stderr",
          "text": [
            "[nltk_data] Downloading package punkt to /root/nltk_data...\n",
            "[nltk_data]   Package punkt is already up-to-date!\n"
          ]
        },
        {
          "output_type": "execute_result",
          "data": {
            "text/plain": [
              "True"
            ]
          },
          "metadata": {},
          "execution_count": 15
        }
      ],
      "source": [
        "import pandas as pd\n",
        "import matplotlib.pyplot as plt\n",
        "import seaborn as sns\n",
        "import warnings\n",
        "import ast\n",
        "import numpy as np\n",
        "warnings.filterwarnings(\"ignore\")\n",
        "import nltk\n",
        "nltk.download('punkt')"
      ]
    },
    {
      "cell_type": "code",
      "source": [
        "symptoms_data_actual = pd.read_csv(\"/content/symptoms_output.csv\")\n",
        "symptoms_data_extracted = pd.read_csv(\"/content/symptoms_data_extracted.csv\")\n",
        "symptoms_data_actual['Symptoms'] = symptoms_data_actual['Symptoms'].apply(ast.literal_eval)\n",
        "symptoms_data_extracted['Symptoms'] = symptoms_data_extracted['Symptoms'].apply(ast.literal_eval)"
      ],
      "metadata": {
        "id": "8wzisJLfMIb6"
      },
      "execution_count": null,
      "outputs": []
    },
    {
      "cell_type": "code",
      "source": [
        "# Working on only 20 datapoints\n",
        "symptoms_data_actual_20 = symptoms_data_actual.head(1000)\n",
        "symptoms_data_extracted_20 = symptoms_data_extracted.head(1000)"
      ],
      "metadata": {
        "id": "7KpJjcr9NAjy"
      },
      "execution_count": null,
      "outputs": []
    },
    {
      "cell_type": "code",
      "source": [
        "symptoms_data_extracted_20_flatten = set()\n",
        "\n",
        "for symptom_list in symptoms_data_extracted_20[\"Symptoms\"]:\n",
        "    for symptoms in symptom_list:\n",
        "        symptoms_data_extracted_20_flatten.add(symptoms)\n",
        "\n",
        "# Convert the set to a list if needed\n",
        "symptoms_data_extracted_20_flatten = list(symptoms_data_extracted_20_flatten)\n"
      ],
      "metadata": {
        "id": "JUcizA1kV5bH"
      },
      "execution_count": null,
      "outputs": []
    },
    {
      "cell_type": "code",
      "source": [
        "symptoms_data_actual_20_flatten = []\n",
        "\n",
        "for symptom_list in symptoms_data_actual_20[\"Symptoms\"]:\n",
        "    for symptoms in symptom_list:\n",
        "        symptoms_data_actual_20_flatten.append(symptoms)\n",
        "\n"
      ],
      "metadata": {
        "id": "au9RQbrKXj0q"
      },
      "execution_count": null,
      "outputs": []
    },
    {
      "cell_type": "code",
      "source": [
        "from collections import Counter\n",
        "# Count occurrences of each symptom\n",
        "symptom_counts = Counter(symptoms_data_actual_20_flatten)\n",
        "most_frequent_actual_symptoms = {symptom: count for symptom, count in symptom_counts.items() if count > 5}"
      ],
      "metadata": {
        "id": "gQoKxAippqxV"
      },
      "execution_count": null,
      "outputs": []
    },
    {
      "cell_type": "code",
      "source": [
        "most_frequent_actual_symptoms"
      ],
      "metadata": {
        "colab": {
          "base_uri": "https://localhost:8080/"
        },
        "id": "3YGmeUpZggj8",
        "outputId": "25b1bb9e-ae0f-467d-85ba-db86fc99237f"
      },
      "execution_count": null,
      "outputs": [
        {
          "output_type": "execute_result",
          "data": {
            "text/plain": [
              "{'Heavy menstrual bleeding': 12,\n",
              " 'Menstruation irregular': 9,\n",
              " 'SARS-CoV-2 test negative': 17,\n",
              " 'Chills': 75,\n",
              " 'Fatigue': 115,\n",
              " 'Immunisation': 57,\n",
              " 'Pain': 117,\n",
              " 'Diarrhoea': 26,\n",
              " 'SARS-CoV-2 test': 31,\n",
              " 'Lymphadenopathy': 49,\n",
              " 'Rhinorrhoea': 8,\n",
              " 'Vaccination site pain': 14,\n",
              " 'Rash': 23,\n",
              " 'Pyrexia': 101,\n",
              " 'Headache': 128,\n",
              " 'Illness': 18,\n",
              " 'Vomiting': 44,\n",
              " 'Abdominal pain upper': 12,\n",
              " 'Hypertension': 15,\n",
              " 'Heart rate increased': 28,\n",
              " 'Palpitations': 28,\n",
              " 'Lymph node pain': 15,\n",
              " 'Myalgia': 29,\n",
              " 'Mobility decreased': 11,\n",
              " 'Paraesthesia': 19,\n",
              " 'Hypoaesthesia': 29,\n",
              " 'Neck pain': 11,\n",
              " 'Feeling abnormal': 27,\n",
              " 'Insomnia': 13,\n",
              " 'Dizziness': 70,\n",
              " 'Axillary pain': 15,\n",
              " 'Urticaria': 28,\n",
              " 'Feeling hot': 7,\n",
              " 'Influenza like illness': 12,\n",
              " 'Body temperature': 11,\n",
              " 'Nausea': 74,\n",
              " 'Erythema': 12,\n",
              " 'Malaise': 28,\n",
              " 'Blood test': 35,\n",
              " 'Pain in extremity': 85,\n",
              " 'Tremor': 7,\n",
              " 'Feeling cold': 7,\n",
              " 'X-ray': 9,\n",
              " 'Peripheral swelling': 14,\n",
              " 'SARS-CoV-2 antibody test': 7,\n",
              " 'Cough': 55,\n",
              " 'Anosmia': 6,\n",
              " 'Swelling': 18,\n",
              " 'Back pain': 20,\n",
              " 'COVID-19': 157,\n",
              " 'Interchange of vaccine products': 6,\n",
              " 'Pruritus': 24,\n",
              " 'Drug ineffective': 15,\n",
              " 'Nasal congestion': 7,\n",
              " 'Nasopharyngitis': 9,\n",
              " 'Burning sensation': 11,\n",
              " 'Dyspnoea': 85,\n",
              " 'Seizure': 7,\n",
              " 'Loss of consciousness': 11,\n",
              " 'Body temperature increased': 6,\n",
              " 'Arthralgia': 45,\n",
              " 'Oropharyngeal pain': 16,\n",
              " 'Inappropriate schedule of product administration': 11,\n",
              " 'Chest discomfort': 28,\n",
              " 'Chest pain': 51,\n",
              " 'Ultrasound scan': 8,\n",
              " 'Electrocardiogram': 17,\n",
              " 'Decreased appetite': 18,\n",
              " 'Somnolence': 11,\n",
              " 'Condition aggravated': 36,\n",
              " 'Skin discolouration': 7,\n",
              " 'Ear discomfort': 8,\n",
              " 'Discomfort': 15,\n",
              " 'Visual impairment': 6,\n",
              " 'Confusional state': 7,\n",
              " 'Asthenia': 35,\n",
              " 'Fall': 16,\n",
              " 'Injection site pain': 30,\n",
              " 'Musculoskeletal stiffness': 11,\n",
              " 'Abdominal pain': 13,\n",
              " 'Computerised tomogram': 19,\n",
              " 'Lethargy': 9,\n",
              " 'Chest X-ray': 15,\n",
              " 'Feeding disorder': 6,\n",
              " 'Full blood count': 9,\n",
              " 'Muscle spasms': 11,\n",
              " 'Angiogram pulmonary abnormal': 6,\n",
              " 'Anticoagulant therapy': 9,\n",
              " 'Chest X-ray abnormal': 14,\n",
              " 'Troponin increased': 11,\n",
              " 'Electrocardiogram abnormal': 6,\n",
              " 'Sleep disorder': 15,\n",
              " 'Syncope': 21,\n",
              " 'Unresponsive to stimuli': 8,\n",
              " 'Tachycardia': 15,\n",
              " 'Electrocardiogram normal': 18,\n",
              " 'Incorrect dose administered': 21,\n",
              " 'Muscular weakness': 13,\n",
              " 'Hyperhidrosis': 13,\n",
              " \"Bell's palsy\": 10,\n",
              " 'Heart rate irregular': 6,\n",
              " 'Dyspnoea exertional': 8,\n",
              " 'Echocardiogram': 13,\n",
              " 'Metabolic function test': 7,\n",
              " 'Throat tightness': 6,\n",
              " 'Respiratory tract congestion': 8,\n",
              " 'Injection site swelling': 8,\n",
              " 'Magnetic resonance imaging': 11,\n",
              " 'Gait disturbance': 11,\n",
              " 'Tinnitus': 31,\n",
              " 'Vertigo': 11,\n",
              " 'Laboratory test abnormal': 7,\n",
              " 'Underdose': 13,\n",
              " 'Blood test normal': 13,\n",
              " 'C-reactive protein increased': 8,\n",
              " 'Myocarditis': 7,\n",
              " 'Loss of personal independence in daily activities': 10,\n",
              " 'Inflammation': 11,\n",
              " 'Fibrin D dimer increased': 6,\n",
              " 'Echocardiogram normal': 6,\n",
              " 'Intensive care': 13,\n",
              " 'Chest X-ray normal': 9,\n",
              " 'Hypotension': 7,\n",
              " 'Anxiety': 8,\n",
              " 'COVID-19 pneumonia': 10,\n",
              " 'Vaccine breakthrough infection': 37,\n",
              " 'No adverse event': 17,\n",
              " 'Product administered to patient of inappropriate age': 11,\n",
              " 'Skin warm': 6,\n",
              " 'SARS-CoV-2 test positive': 127,\n",
              " 'Ear pain': 6,\n",
              " 'Thrombosis': 6,\n",
              " 'Product preparation issue': 9,\n",
              " 'Extra dose administered': 7,\n",
              " 'Atrial fibrillation': 7,\n",
              " 'Pallor': 11,\n",
              " 'Injection site erythema': 9,\n",
              " 'Herpes zoster': 6,\n",
              " 'Echocardiogram abnormal': 6,\n",
              " 'Menstrual disorder': 9,\n",
              " 'Blood test abnormal': 6,\n",
              " 'Migraine': 7,\n",
              " 'Urine analysis': 6,\n",
              " 'Laboratory test': 9,\n",
              " 'White blood cell count increased': 6,\n",
              " 'Death': 14,\n",
              " 'Hypoxia': 8,\n",
              " 'Endotracheal intubation': 6,\n",
              " 'Deafness': 6,\n",
              " 'Expired product administered': 6,\n",
              " 'Pneumonia': 7,\n",
              " 'Lung opacity': 8,\n",
              " 'Haemoglobin normal': 6,\n",
              " 'Product storage error': 23,\n",
              " 'Acute respiratory failure': 7,\n",
              " 'Blood glucose normal': 6}"
            ]
          },
          "metadata": {},
          "execution_count": 9
        }
      ]
    },
    {
      "cell_type": "code",
      "source": [
        "standard_symptoms = list(symptom_counts.keys())\n",
        "most_common_standard_symptoms = list(most_frequent_actual_symptoms.keys())"
      ],
      "metadata": {
        "id": "4V3SyKK-prHu"
      },
      "execution_count": null,
      "outputs": []
    },
    {
      "cell_type": "code",
      "source": [
        "# Remove duplicates in-place using set\n",
        "unique_symptoms_set = set(symptoms_data_extracted_20_flatten)\n",
        "symptoms_data_extracted_20_flatten.clear()\n",
        "symptoms_data_extracted_20_flatten.extend(unique_symptoms_set)"
      ],
      "metadata": {
        "id": "PrbcXs7gpres"
      },
      "execution_count": null,
      "outputs": []
    },
    {
      "cell_type": "code",
      "source": [
        "import tarfile\n",
        "\n",
        "# Path to the tar.gz file\n",
        "file_path = '/content/drive/My Drive/NLP-Project/gl_100d_oa_all.tar.gz'\n",
        "\n",
        "# Extract the contents of the tar.gz file\n",
        "with tarfile.open(file_path, 'r:gz') as tar:\n",
        "    tar.extractall('/content/')"
      ],
      "metadata": {
        "id": "GftIZoTM-lsi"
      },
      "execution_count": null,
      "outputs": []
    },
    {
      "cell_type": "code",
      "source": [
        "# def load_glove_embeddings(file_path):\n",
        "#     embeddings_index = {}\n",
        "#     with open(file_path, encoding=\"utf-8\") as f:\n",
        "#         for line in f:\n",
        "#             try:\n",
        "#                 # Remove non-breaking spaces\n",
        "#                 line = line.replace('\\u2028', ' ')\n",
        "\n",
        "#                 values = line.split()\n",
        "#                 word = values[0]\n",
        "#                 coefs = np.asarray(values[1:], dtype='float32')\n",
        "#                 embeddings_index[word] = coefs\n",
        "#             except ValueError as e:\n",
        "#                 # print(f\"Error processing line: {line}\")\n",
        "#                 print(f\"Error message: {e}\")\n",
        "#     return embeddings_index\n",
        "\n",
        "# glove_file_path = '/content/GL_100/converted_to_word2vec_100.txt'\n",
        "# glove_embeddings = load_glove_embeddings(glove_file_path)\n"
      ],
      "metadata": {
        "id": "OnceKTlCzFKf",
        "colab": {
          "base_uri": "https://localhost:8080/"
        },
        "outputId": "65ce3186-3f8f-420d-c129-a47187be78dc"
      },
      "execution_count": null,
      "outputs": [
        {
          "output_type": "stream",
          "name": "stdout",
          "text": [
            "Error message: could not convert string to float: 'depressant'\n",
            "Error message: could not convert string to float: 'degeneration'\n",
            "Error message: could not convert string to float: 'degenerative_diseases'\n",
            "Error message: could not convert string to float: 'transmitter'\n",
            "Error message: could not convert string to float: 'degenerative'\n",
            "Error message: could not convert string to float: 'macological'\n"
          ]
        }
      ]
    },
    {
      "cell_type": "code",
      "source": [
        "import numpy as np\n",
        "from sklearn.metrics.pairwise import cosine_similarity\n",
        "from nltk.tokenize import word_tokenize\n",
        "\n",
        "# Function to embed text\n",
        "def embed_text(text, embeddings):\n",
        "    tokens = word_tokenize(text.lower())\n",
        "    embedded_text = [embeddings[token] for token in tokens if token in embeddings]\n",
        "    return np.mean(embedded_text, axis=0) if embedded_text else None\n",
        "\n",
        "# Calculate similarities and store the results in a dictionary\n",
        "symptom_linking_dict = {}\n",
        "\n",
        "for raw_symptom in symptoms_data_extracted_20_flatten:\n",
        "    embedded_raw_symptom = embed_text(raw_symptom, glove_embeddings)\n",
        "\n",
        "    max_similarity = 0.0\n",
        "    linked_standard_symptom = None\n",
        "\n",
        "    if embedded_raw_symptom is not None:  # Check if the embedding is not None\n",
        "        for standard_symptom in standard_symptoms:\n",
        "            embedded_standard_symptom = embed_text(standard_symptom, glove_embeddings)\n",
        "\n",
        "            if embedded_standard_symptom is not None:  # Check if the embedding is not None\n",
        "                similarity_score = cosine_similarity([embedded_raw_symptom], [embedded_standard_symptom])[0][0]\n",
        "\n",
        "                if similarity_score > max_similarity:\n",
        "                    max_similarity = similarity_score\n",
        "                    linked_standard_symptom = standard_symptom\n",
        "\n",
        "    symptom_linking_dict[raw_symptom] = linked_standard_symptom\n"
      ],
      "metadata": {
        "id": "3UvECHeVzhVc"
      },
      "execution_count": null,
      "outputs": []
    },
    {
      "cell_type": "code",
      "source": [
        "import numpy as np\n",
        "from sklearn.metrics.pairwise import cosine_similarity\n",
        "from nltk.tokenize import word_tokenize\n",
        "\n",
        "# Function to embed text\n",
        "def embed_text(text, embeddings):\n",
        "    tokens = word_tokenize(text.lower())\n",
        "    embedded_text = [embeddings[token] for token in tokens if token in embeddings]\n",
        "    return np.mean(embedded_text, axis=0) if embedded_text else None\n",
        "\n",
        "# Calculate similarities and store the results in a dictionary\n",
        "most_frequent_symptom_linking_dict = {}\n",
        "\n",
        "for raw_symptom in symptoms_data_extracted_20_flatten:\n",
        "    embedded_raw_symptom = embed_text(raw_symptom, glove_embeddings)\n",
        "\n",
        "    max_similarity = 0.0\n",
        "    linked_standard_symptom = None\n",
        "\n",
        "    if embedded_raw_symptom is not None:  # Check if the embedding is not None\n",
        "        for standard_symptom in most_common_standard_symptoms:\n",
        "            embedded_standard_symptom = embed_text(standard_symptom, glove_embeddings)\n",
        "\n",
        "            if embedded_standard_symptom is not None:  # Check if the embedding is not None\n",
        "                similarity_score = cosine_similarity([embedded_raw_symptom], [embedded_standard_symptom])[0][0]\n",
        "\n",
        "                if similarity_score > max_similarity:\n",
        "                    max_similarity = similarity_score\n",
        "                    linked_standard_symptom = standard_symptom\n",
        "\n",
        "        most_frequent_symptom_linking_dict[raw_symptom] = linked_standard_symptom\n"
      ],
      "metadata": {
        "id": "gwENHWYI_PNV"
      },
      "execution_count": null,
      "outputs": []
    },
    {
      "cell_type": "code",
      "source": [
        "import pandas as pd\n",
        "\n",
        "# Create an empty DataFrame\n",
        "columns = ['VAERS_ID', 'Symptoms', 'Standard_Symptoms']\n",
        "Symptoms_linked_entities_output = pd.DataFrame(columns=columns)\n",
        "\n",
        "# Dictionary to store symptoms and standard symptoms lists for each VAERS_ID\n",
        "symptom_dict = {}\n",
        "\n",
        "# Iterate over rows in symptoms_data_extracted_20 and append to the DataFrame\n",
        "for index, row in symptoms_data_extracted_20.iterrows():\n",
        "    vaers_id = row['VAERS_ID']\n",
        "    symptoms_list = row['Symptoms']\n",
        "\n",
        "    for raw_symptom in symptoms_list:\n",
        "        linked_standard_symptom = symptom_linking_dict.get(raw_symptom)\n",
        "\n",
        "        if vaers_id not in symptom_dict:\n",
        "            symptom_dict[vaers_id] = {'Symptoms': [], 'Standard_Symptoms': set()}\n",
        "\n",
        "        symptom_dict[vaers_id]['Symptoms'].append(raw_symptom)\n",
        "\n",
        "        # Check if the standard symptom is not seen before\n",
        "        if linked_standard_symptom and linked_standard_symptom not in symptom_dict[vaers_id]['Standard_Symptoms']:\n",
        "            symptom_dict[vaers_id]['Standard_Symptoms'].add(linked_standard_symptom)\n",
        "\n",
        "# Populate the DataFrame with aggregated lists\n",
        "for vaers_id, symptoms_info in symptom_dict.items():\n",
        "    Symptoms_linked_entities_output = Symptoms_linked_entities_output.append({\n",
        "        'VAERS_ID': vaers_id,\n",
        "        'Symptoms': symptoms_info['Symptoms'],\n",
        "        'Standard_Symptoms': list(symptoms_info['Standard_Symptoms'])\n",
        "    }, ignore_index=True)"
      ],
      "metadata": {
        "id": "Ja128626Ytnk"
      },
      "execution_count": null,
      "outputs": []
    },
    {
      "cell_type": "code",
      "source": [
        "# Add a new column for Most Frequent Standard Symptoms to the existing DataFrame\n",
        "Symptoms_linked_entities_output['Most_Frequent_Standard_Symptoms'] = None\n",
        "\n",
        "# Set to keep track of seen most frequent standard symptoms\n",
        "seen_most_frequent_standard_symptoms = set()\n",
        "\n",
        "# Iterate over rows in the DataFrame and update the new column\n",
        "for index, row in Symptoms_linked_entities_output.iterrows():\n",
        "    vaers_id = row['VAERS_ID']\n",
        "    symptoms_list = row['Symptoms']  # Replace 'Symptoms' with the actual column name\n",
        "\n",
        "    most_frequent_standard_symptoms = []\n",
        "\n",
        "    for symptom in symptoms_list:\n",
        "        most_frequent_standard_symptom = most_frequent_symptom_linking_dict.get(symptom)\n",
        "\n",
        "        # Check if the most frequent standard symptom is not seen before\n",
        "        if most_frequent_standard_symptom and most_frequent_standard_symptom not in seen_most_frequent_standard_symptoms:\n",
        "            most_frequent_standard_symptoms.append(most_frequent_standard_symptom)\n",
        "            seen_most_frequent_standard_symptoms.add(most_frequent_standard_symptom)\n",
        "\n",
        "    Symptoms_linked_entities_output.at[index, 'Most_Frequent_Standard_Symptoms'] = most_frequent_standard_symptoms\n"
      ],
      "metadata": {
        "id": "u8_l5Z-uYt1v"
      },
      "execution_count": null,
      "outputs": []
    },
    {
      "cell_type": "code",
      "source": [
        "actual_symptoms_column = symptoms_data_actual_20['Symptoms']\n",
        "Symptoms_linked_entities_output.insert(1, 'Actual Symptoms', actual_symptoms_column)\n",
        "print(Symptoms_linked_entities_output)\n"
      ],
      "metadata": {
        "colab": {
          "base_uri": "https://localhost:8080/"
        },
        "id": "VPVBIwEDSHfM",
        "outputId": "64899efe-5fc7-4a9c-829a-0014d670cf38"
      },
      "execution_count": null,
      "outputs": [
        {
          "output_type": "stream",
          "name": "stdout",
          "text": [
            "    VAERS_ID                                    Actual Symptoms  \\\n",
            "0    1996876  [Dysmenorrhoea, Heavy menstrual bleeding, Mens...   \n",
            "1    1996877  [Heavy menstrual bleeding, Oligomenorrhoea, SA...   \n",
            "2    1996878              [Chills, Fatigue, Immunisation, Pain]   \n",
            "3    1996879                       [Diarrhoea, SARS-CoV-2 test]   \n",
            "4    1996880  [Fatigue, Immunisation, Lymphadenopathy, Rhino...   \n",
            "..       ...                                                ...   \n",
            "856  2000245  [Cardiac stress test, Echocardiogram, Photopsi...   \n",
            "857  2000246  [COVID-19, Exposure to SARS-CoV-2, Malaise, SA...   \n",
            "858  2000251          [Pain, Pain in extremity, Sleep disorder]   \n",
            "859  2000257                             [Rash, Rash vesicular]   \n",
            "860  2000265                     [Arthralgia, Myalgia, Pyrexia]   \n",
            "\n",
            "                                              Symptoms  \\\n",
            "0    [irregular menstrual cycle, bad cramping, mens...   \n",
            "1    [heavy menstrual bleeding, heavy menstrual ble...   \n",
            "2    [tired, achy, chills, fatigue, pain, chills, c...   \n",
            "3    [diarrheal, thyroid disorder '', long term thy...   \n",
            "4    [lymph node swelling, exhaustion, nose running...   \n",
            "..                                                 ...   \n",
            "856                                            [dizzy]   \n",
            "857  [premature ventricular contractions, something...   \n",
            "858  [syncope, hit head, mid posterior nodule, vaso...   \n",
            "859  [one inch red itchy area, area itchy, puffy, c...   \n",
            "860                 [patient sore arm, fever, fatigue]   \n",
            "\n",
            "                                     Standard_Symptoms  \\\n",
            "0    [Dysmenorrhoea, Menstruation delayed, Menstrua...   \n",
            "1                           [Heavy menstrual bleeding]   \n",
            "2    [Fatigue, Sneezing, Feeling jittery, Chills, T...   \n",
            "3    [Dysmenorrhoea, Pneumonia bacterial, Full bloo...   \n",
            "4    [No adverse event, Fatigue, Hypertension, Dry ...   \n",
            "..                                                 ...   \n",
            "856                                  [Feeling jittery]   \n",
            "857  [Ventricular enlargement, Seizure like phenomena]   \n",
            "858  [Injury associated with device, Syncope, Head ...   \n",
            "859  [Red cell distribution width, Eye swelling, Bu...   \n",
            "860                [Cough, Fatigue, Patient restraint]   \n",
            "\n",
            "                       Most_Frequent_Standard_Symptoms  \n",
            "0    [Menstruation irregular, Feeling hot, Heavy me...  \n",
            "1                                                   []  \n",
            "2    [Lethargy, Chills, Fatigue, Pain, No adverse e...  \n",
            "3    [Diarrhoea, Menstrual disorder, Vertigo, Parae...  \n",
            "4    [Lymph node pain, Body temperature, Injection ...  \n",
            "..                                                 ...  \n",
            "856                                                 []  \n",
            "857                                                 []  \n",
            "858                                                 []  \n",
            "859                                                 []  \n",
            "860                                                 []  \n",
            "\n",
            "[861 rows x 5 columns]\n"
          ]
        }
      ]
    },
    {
      "cell_type": "code",
      "source": [
        "Symptoms_linked_entities_output.to_csv(\"symptoms_linked_entities_output.csv\", index = False)"
      ],
      "metadata": {
        "id": "p9_m9-s9clg5"
      },
      "execution_count": null,
      "outputs": []
    },
    {
      "cell_type": "code",
      "source": [
        "def calculate_precision_recall_f1(target_symptoms, predicted_symptoms):\n",
        "    true_positives = len(set(target_symptoms).intersection(predicted_symptoms))\n",
        "    false_positives = len(predicted_symptoms) - true_positives\n",
        "    false_negatives = len(target_symptoms) - true_positives\n",
        "\n",
        "    precision = true_positives / (true_positives + false_positives) if (true_positives + false_positives) > 0 else 0\n",
        "    recall = true_positives / (true_positives + false_negatives) if (true_positives + false_negatives) > 0 else 0\n",
        "    f1 = 2 * (precision * recall) / (precision + recall) if (precision + recall) > 0 else 0\n",
        "\n",
        "    return precision, recall, f1\n",
        "\n",
        "# Create a DataFrame to store individual precision, recall, and F1-score for each VAERS ID\n",
        "evaluation_results = pd.DataFrame(columns=['VAERS_ID', 'Precision', 'Recall', 'F1'])\n",
        "\n",
        "# Iterate over unique VAERS IDs\n",
        "unique_vaers_ids = Symptoms_linked_entities_output['VAERS_ID'].unique()\n",
        "for vaers_id in unique_vaers_ids:\n",
        "    # Extract the target and predicted symptoms for the current VAERS ID\n",
        "    target_symptoms = set(symptoms_data_actual_20[symptoms_data_actual_20['VAERS_ID'] == vaers_id]['Symptoms'].explode())\n",
        "    predicted_symptoms = set(Symptoms_linked_entities_output[Symptoms_linked_entities_output['VAERS_ID'] == vaers_id]['Standard_Symptoms'].explode())\n",
        "\n",
        "    # Calculate metrics and append the results to the DataFrame\n",
        "    precision, recall, f1 = calculate_precision_recall_f1(target_symptoms, predicted_symptoms)\n",
        "    evaluation_results = evaluation_results.append({\n",
        "        'VAERS_ID': vaers_id,\n",
        "        'Precision': precision,\n",
        "        'Recall': recall,\n",
        "        'F1': f1\n",
        "    }, ignore_index=True)\n",
        "\n",
        "# Calculate average precision, recall, and F1-score across all VAERS IDs\n",
        "average_precision = evaluation_results['Precision'].mean()\n",
        "average_recall = evaluation_results['Recall'].mean()\n",
        "average_f1 = evaluation_results['F1'].mean()\n",
        "\n",
        "print(f\"Average Precision: {average_precision}\")\n",
        "print(f\"Average Recall: {average_recall}\")\n",
        "print(f\"Average F1-score: {average_f1}\")"
      ],
      "metadata": {
        "colab": {
          "base_uri": "https://localhost:8080/"
        },
        "id": "3MImVrplilLq",
        "outputId": "2d1801a3-adf0-4a6b-eea6-ec05359f92cf"
      },
      "execution_count": null,
      "outputs": [
        {
          "output_type": "stream",
          "name": "stdout",
          "text": [
            "Average Precision: 0.37402883647794233\n",
            "Average Recall: 0.3574799064039877\n",
            "Average F1-score: 0.3392060323725159\n"
          ]
        }
      ]
    },
    {
      "cell_type": "code",
      "source": [
        "evaluation_results.to_csv(\"evaluation_results.csv\", index = False)"
      ],
      "metadata": {
        "id": "6EyJEIiQilH-"
      },
      "execution_count": null,
      "outputs": []
    },
    {
      "cell_type": "code",
      "source": [
        "# Create a DataFrame to store individual precision, recall, and F1-score for each VAERS ID\n",
        "evaluation_results_most_frequent = pd.DataFrame(columns=['VAERS_ID', 'Precision', 'Recall', 'F1'])\n",
        "\n",
        "# Iterate over unique VAERS IDs\n",
        "unique_vaers_ids_most_frequent = Symptoms_linked_entities_output['VAERS_ID'].unique()\n",
        "for vaers_id in unique_vaers_ids_most_frequent:\n",
        "    # Extract the target and predicted symptoms for the current VAERS ID\n",
        "    target_symptoms_most_frequent = set(symptoms_data_actual_20[symptoms_data_actual_20['VAERS_ID'] == vaers_id]['Symptoms'].explode())\n",
        "    predicted_symptoms_most_frequent = set(Symptoms_linked_entities_output[Symptoms_linked_entities_output['VAERS_ID'] == vaers_id]['Most_Frequent_Standard_Symptoms'].explode())\n",
        "\n",
        "    # Calculate metrics and append the results to the DataFrame\n",
        "    precision_most_frequent, recall_most_frequent, f1_most_frequent = calculate_precision_recall_f1(target_symptoms_most_frequent, predicted_symptoms_most_frequent)\n",
        "    evaluation_results_most_frequent = evaluation_results_most_frequent.append({\n",
        "        'VAERS_ID': vaers_id,\n",
        "        'Precision': precision_most_frequent,\n",
        "        'Recall': recall_most_frequent,\n",
        "        'F1': f1_most_frequent\n",
        "    }, ignore_index=True)\n",
        "\n",
        "# Calculate average precision, recall, and F1-score across all VAERS IDs\n",
        "average_precision_most_frequent = evaluation_results_most_frequent['Precision'].mean()\n",
        "average_recall_most_frequent = evaluation_results_most_frequent['Recall'].mean()\n",
        "average_f1_most_frequent = evaluation_results_most_frequent['F1'].mean()\n",
        "\n",
        "print(f\"Average Precision (Most Frequent): {average_precision_most_frequent}\")\n",
        "print(f\"Average Recall (Most Frequent): {average_recall_most_frequent}\")\n",
        "print(f\"Average F1-score (Most Frequent): {average_f1_most_frequent}\")\n"
      ],
      "metadata": {
        "colab": {
          "base_uri": "https://localhost:8080/"
        },
        "id": "bvQVua0HilFl",
        "outputId": "427b0f52-f80e-47e2-e15d-98b1bddf5de2"
      },
      "execution_count": null,
      "outputs": [
        {
          "output_type": "stream",
          "name": "stdout",
          "text": [
            "Average Precision (Most Frequent): 0.020376822815847205\n",
            "Average Recall (Most Frequent): 0.011862033037710235\n",
            "Average F1-score (Most Frequent): 0.012565928071154552\n"
          ]
        }
      ]
    },
    {
      "cell_type": "code",
      "source": [
        "evaluation_results_most_frequent.to_csv(\"evaluation_results_most_frequent.csv\", index = False)"
      ],
      "metadata": {
        "id": "Em5qd_eEilDH"
      },
      "execution_count": null,
      "outputs": []
    },
    {
      "cell_type": "code",
      "source": [
        "gptoutput = pd.read_csv(\"/content/finaloutput.csv\")"
      ],
      "metadata": {
        "id": "QORIq_qyik_c"
      },
      "execution_count": null,
      "outputs": []
    },
    {
      "cell_type": "code",
      "source": [
        "gptoutput.head(10)"
      ],
      "metadata": {
        "colab": {
          "base_uri": "https://localhost:8080/",
          "height": 501
        },
        "id": "ITcQpFO_ik7l",
        "outputId": "561cc5fe-7f11-493e-a527-507d6a2756fb"
      },
      "execution_count": null,
      "outputs": [
        {
          "output_type": "execute_result",
          "data": {
            "text/plain": [
              "   Unnamed: 0.1  VAERS_ID                                    Symptoms_actual  \\\n",
              "0             0   1996876  ['Dysmenorrhoea', 'Heavy menstrual bleeding', ...   \n",
              "1             1   1996877  ['Heavy menstrual bleeding', 'Oligomenorrhoea'...   \n",
              "2             2   1996878      ['Chills', 'Fatigue', 'Immunisation', 'Pain']   \n",
              "3             3   1996879                   ['Diarrhoea', 'SARS-CoV-2 test']   \n",
              "4             4   1996880  ['Fatigue', 'Immunisation', 'Lymphadenopathy',...   \n",
              "5             5   1996881  ['Biopsy', 'Biopsy skin', 'Drug eruption', 'Ra...   \n",
              "6             6   1996882                                        ['Pyrexia']   \n",
              "7             7   1996883   ['Fatigue', 'Headache', 'Vaccination site pain']   \n",
              "8             8   1996884                            ['Illness', 'Vomiting']   \n",
              "9             9   1996885                           ['Abdominal pain upper']   \n",
              "\n",
              "                                  Symptoms_extracted  Unnamed: 0  \\\n",
              "0  ['bad cramping', 'dysmenorrhoea', 'menstruatio...           0   \n",
              "1                       ['heavy menstrual bleeding']           1   \n",
              "2  ['side effects', 'achy', 'fatigue', 'pain', 't...           2   \n",
              "3  ['activated immune system viral complications'...           3   \n",
              "4  ['prediabetes', 'nose running', 'sore arm jab ...           4   \n",
              "5  ['lichenoid drug eruption', 'depression', 'tor...           5   \n",
              "6  ['fever', 'patient pain', 'patient s pain', 'p...           6   \n",
              "7   ['fatigue', 'vaccination site pain', 'headache']           7   \n",
              "8                                       ['vomiting']           8   \n",
              "9  ['abdominal pain upper  nonserious  onset', 's...           9   \n",
              "\n",
              "                                  Generated_Response  \n",
              "0  ['Dysmenorrhoea', 'Dysmenorrhoea', 'Menstruati...  \n",
              "1    ['Heavy menstrual bleeding', 'Oligomenorrhoea']  \n",
              "2                      ['Fatigue', 'Pain', 'Chills']  \n",
              "3  ['Diarrhoea', 'Thyroid disorder', 'Mononucleos...  \n",
              "4  ['Fatigue', 'Rhinorrhoea', 'Lymphadenopathy', ...  \n",
              "5                          ['Drug eruption', 'Rash']  \n",
              "6                                ['Pyrexia', 'Pain']  \n",
              "7   ['Fatigue', 'Vaccination site pain', 'Headache']  \n",
              "8                                       ['Vomiting']  \n",
              "9         ['Abdominal pain upper', 'Stomach issues']  "
            ],
            "text/html": [
              "\n",
              "  <div id=\"df-0ea5947b-57f1-4e88-b973-a68f4993d4f1\" class=\"colab-df-container\">\n",
              "    <div>\n",
              "<style scoped>\n",
              "    .dataframe tbody tr th:only-of-type {\n",
              "        vertical-align: middle;\n",
              "    }\n",
              "\n",
              "    .dataframe tbody tr th {\n",
              "        vertical-align: top;\n",
              "    }\n",
              "\n",
              "    .dataframe thead th {\n",
              "        text-align: right;\n",
              "    }\n",
              "</style>\n",
              "<table border=\"1\" class=\"dataframe\">\n",
              "  <thead>\n",
              "    <tr style=\"text-align: right;\">\n",
              "      <th></th>\n",
              "      <th>Unnamed: 0.1</th>\n",
              "      <th>VAERS_ID</th>\n",
              "      <th>Symptoms_actual</th>\n",
              "      <th>Symptoms_extracted</th>\n",
              "      <th>Unnamed: 0</th>\n",
              "      <th>Generated_Response</th>\n",
              "    </tr>\n",
              "  </thead>\n",
              "  <tbody>\n",
              "    <tr>\n",
              "      <th>0</th>\n",
              "      <td>0</td>\n",
              "      <td>1996876</td>\n",
              "      <td>['Dysmenorrhoea', 'Heavy menstrual bleeding', ...</td>\n",
              "      <td>['bad cramping', 'dysmenorrhoea', 'menstruatio...</td>\n",
              "      <td>0</td>\n",
              "      <td>['Dysmenorrhoea', 'Dysmenorrhoea', 'Menstruati...</td>\n",
              "    </tr>\n",
              "    <tr>\n",
              "      <th>1</th>\n",
              "      <td>1</td>\n",
              "      <td>1996877</td>\n",
              "      <td>['Heavy menstrual bleeding', 'Oligomenorrhoea'...</td>\n",
              "      <td>['heavy menstrual bleeding']</td>\n",
              "      <td>1</td>\n",
              "      <td>['Heavy menstrual bleeding', 'Oligomenorrhoea']</td>\n",
              "    </tr>\n",
              "    <tr>\n",
              "      <th>2</th>\n",
              "      <td>2</td>\n",
              "      <td>1996878</td>\n",
              "      <td>['Chills', 'Fatigue', 'Immunisation', 'Pain']</td>\n",
              "      <td>['side effects', 'achy', 'fatigue', 'pain', 't...</td>\n",
              "      <td>2</td>\n",
              "      <td>['Fatigue', 'Pain', 'Chills']</td>\n",
              "    </tr>\n",
              "    <tr>\n",
              "      <th>3</th>\n",
              "      <td>3</td>\n",
              "      <td>1996879</td>\n",
              "      <td>['Diarrhoea', 'SARS-CoV-2 test']</td>\n",
              "      <td>['activated immune system viral complications'...</td>\n",
              "      <td>3</td>\n",
              "      <td>['Diarrhoea', 'Thyroid disorder', 'Mononucleos...</td>\n",
              "    </tr>\n",
              "    <tr>\n",
              "      <th>4</th>\n",
              "      <td>4</td>\n",
              "      <td>1996880</td>\n",
              "      <td>['Fatigue', 'Immunisation', 'Lymphadenopathy',...</td>\n",
              "      <td>['prediabetes', 'nose running', 'sore arm jab ...</td>\n",
              "      <td>4</td>\n",
              "      <td>['Fatigue', 'Rhinorrhoea', 'Lymphadenopathy', ...</td>\n",
              "    </tr>\n",
              "    <tr>\n",
              "      <th>5</th>\n",
              "      <td>5</td>\n",
              "      <td>1996881</td>\n",
              "      <td>['Biopsy', 'Biopsy skin', 'Drug eruption', 'Ra...</td>\n",
              "      <td>['lichenoid drug eruption', 'depression', 'tor...</td>\n",
              "      <td>5</td>\n",
              "      <td>['Drug eruption', 'Rash']</td>\n",
              "    </tr>\n",
              "    <tr>\n",
              "      <th>6</th>\n",
              "      <td>6</td>\n",
              "      <td>1996882</td>\n",
              "      <td>['Pyrexia']</td>\n",
              "      <td>['fever', 'patient pain', 'patient s pain', 'p...</td>\n",
              "      <td>6</td>\n",
              "      <td>['Pyrexia', 'Pain']</td>\n",
              "    </tr>\n",
              "    <tr>\n",
              "      <th>7</th>\n",
              "      <td>7</td>\n",
              "      <td>1996883</td>\n",
              "      <td>['Fatigue', 'Headache', 'Vaccination site pain']</td>\n",
              "      <td>['fatigue', 'vaccination site pain', 'headache']</td>\n",
              "      <td>7</td>\n",
              "      <td>['Fatigue', 'Vaccination site pain', 'Headache']</td>\n",
              "    </tr>\n",
              "    <tr>\n",
              "      <th>8</th>\n",
              "      <td>8</td>\n",
              "      <td>1996884</td>\n",
              "      <td>['Illness', 'Vomiting']</td>\n",
              "      <td>['vomiting']</td>\n",
              "      <td>8</td>\n",
              "      <td>['Vomiting']</td>\n",
              "    </tr>\n",
              "    <tr>\n",
              "      <th>9</th>\n",
              "      <td>9</td>\n",
              "      <td>1996885</td>\n",
              "      <td>['Abdominal pain upper']</td>\n",
              "      <td>['abdominal pain upper  nonserious  onset', 's...</td>\n",
              "      <td>9</td>\n",
              "      <td>['Abdominal pain upper', 'Stomach issues']</td>\n",
              "    </tr>\n",
              "  </tbody>\n",
              "</table>\n",
              "</div>\n",
              "    <div class=\"colab-df-buttons\">\n",
              "\n",
              "  <div class=\"colab-df-container\">\n",
              "    <button class=\"colab-df-convert\" onclick=\"convertToInteractive('df-0ea5947b-57f1-4e88-b973-a68f4993d4f1')\"\n",
              "            title=\"Convert this dataframe to an interactive table.\"\n",
              "            style=\"display:none;\">\n",
              "\n",
              "  <svg xmlns=\"http://www.w3.org/2000/svg\" height=\"24px\" viewBox=\"0 -960 960 960\">\n",
              "    <path d=\"M120-120v-720h720v720H120Zm60-500h600v-160H180v160Zm220 220h160v-160H400v160Zm0 220h160v-160H400v160ZM180-400h160v-160H180v160Zm440 0h160v-160H620v160ZM180-180h160v-160H180v160Zm440 0h160v-160H620v160Z\"/>\n",
              "  </svg>\n",
              "    </button>\n",
              "\n",
              "  <style>\n",
              "    .colab-df-container {\n",
              "      display:flex;\n",
              "      gap: 12px;\n",
              "    }\n",
              "\n",
              "    .colab-df-convert {\n",
              "      background-color: #E8F0FE;\n",
              "      border: none;\n",
              "      border-radius: 50%;\n",
              "      cursor: pointer;\n",
              "      display: none;\n",
              "      fill: #1967D2;\n",
              "      height: 32px;\n",
              "      padding: 0 0 0 0;\n",
              "      width: 32px;\n",
              "    }\n",
              "\n",
              "    .colab-df-convert:hover {\n",
              "      background-color: #E2EBFA;\n",
              "      box-shadow: 0px 1px 2px rgba(60, 64, 67, 0.3), 0px 1px 3px 1px rgba(60, 64, 67, 0.15);\n",
              "      fill: #174EA6;\n",
              "    }\n",
              "\n",
              "    .colab-df-buttons div {\n",
              "      margin-bottom: 4px;\n",
              "    }\n",
              "\n",
              "    [theme=dark] .colab-df-convert {\n",
              "      background-color: #3B4455;\n",
              "      fill: #D2E3FC;\n",
              "    }\n",
              "\n",
              "    [theme=dark] .colab-df-convert:hover {\n",
              "      background-color: #434B5C;\n",
              "      box-shadow: 0px 1px 3px 1px rgba(0, 0, 0, 0.15);\n",
              "      filter: drop-shadow(0px 1px 2px rgba(0, 0, 0, 0.3));\n",
              "      fill: #FFFFFF;\n",
              "    }\n",
              "  </style>\n",
              "\n",
              "    <script>\n",
              "      const buttonEl =\n",
              "        document.querySelector('#df-0ea5947b-57f1-4e88-b973-a68f4993d4f1 button.colab-df-convert');\n",
              "      buttonEl.style.display =\n",
              "        google.colab.kernel.accessAllowed ? 'block' : 'none';\n",
              "\n",
              "      async function convertToInteractive(key) {\n",
              "        const element = document.querySelector('#df-0ea5947b-57f1-4e88-b973-a68f4993d4f1');\n",
              "        const dataTable =\n",
              "          await google.colab.kernel.invokeFunction('convertToInteractive',\n",
              "                                                    [key], {});\n",
              "        if (!dataTable) return;\n",
              "\n",
              "        const docLinkHtml = 'Like what you see? Visit the ' +\n",
              "          '<a target=\"_blank\" href=https://colab.research.google.com/notebooks/data_table.ipynb>data table notebook</a>'\n",
              "          + ' to learn more about interactive tables.';\n",
              "        element.innerHTML = '';\n",
              "        dataTable['output_type'] = 'display_data';\n",
              "        await google.colab.output.renderOutput(dataTable, element);\n",
              "        const docLink = document.createElement('div');\n",
              "        docLink.innerHTML = docLinkHtml;\n",
              "        element.appendChild(docLink);\n",
              "      }\n",
              "    </script>\n",
              "  </div>\n",
              "\n",
              "\n",
              "<div id=\"df-987cbfab-e87d-44fa-bb94-466c894112f2\">\n",
              "  <button class=\"colab-df-quickchart\" onclick=\"quickchart('df-987cbfab-e87d-44fa-bb94-466c894112f2')\"\n",
              "            title=\"Suggest charts\"\n",
              "            style=\"display:none;\">\n",
              "\n",
              "<svg xmlns=\"http://www.w3.org/2000/svg\" height=\"24px\"viewBox=\"0 0 24 24\"\n",
              "     width=\"24px\">\n",
              "    <g>\n",
              "        <path d=\"M19 3H5c-1.1 0-2 .9-2 2v14c0 1.1.9 2 2 2h14c1.1 0 2-.9 2-2V5c0-1.1-.9-2-2-2zM9 17H7v-7h2v7zm4 0h-2V7h2v10zm4 0h-2v-4h2v4z\"/>\n",
              "    </g>\n",
              "</svg>\n",
              "  </button>\n",
              "\n",
              "<style>\n",
              "  .colab-df-quickchart {\n",
              "      --bg-color: #E8F0FE;\n",
              "      --fill-color: #1967D2;\n",
              "      --hover-bg-color: #E2EBFA;\n",
              "      --hover-fill-color: #174EA6;\n",
              "      --disabled-fill-color: #AAA;\n",
              "      --disabled-bg-color: #DDD;\n",
              "  }\n",
              "\n",
              "  [theme=dark] .colab-df-quickchart {\n",
              "      --bg-color: #3B4455;\n",
              "      --fill-color: #D2E3FC;\n",
              "      --hover-bg-color: #434B5C;\n",
              "      --hover-fill-color: #FFFFFF;\n",
              "      --disabled-bg-color: #3B4455;\n",
              "      --disabled-fill-color: #666;\n",
              "  }\n",
              "\n",
              "  .colab-df-quickchart {\n",
              "    background-color: var(--bg-color);\n",
              "    border: none;\n",
              "    border-radius: 50%;\n",
              "    cursor: pointer;\n",
              "    display: none;\n",
              "    fill: var(--fill-color);\n",
              "    height: 32px;\n",
              "    padding: 0;\n",
              "    width: 32px;\n",
              "  }\n",
              "\n",
              "  .colab-df-quickchart:hover {\n",
              "    background-color: var(--hover-bg-color);\n",
              "    box-shadow: 0 1px 2px rgba(60, 64, 67, 0.3), 0 1px 3px 1px rgba(60, 64, 67, 0.15);\n",
              "    fill: var(--button-hover-fill-color);\n",
              "  }\n",
              "\n",
              "  .colab-df-quickchart-complete:disabled,\n",
              "  .colab-df-quickchart-complete:disabled:hover {\n",
              "    background-color: var(--disabled-bg-color);\n",
              "    fill: var(--disabled-fill-color);\n",
              "    box-shadow: none;\n",
              "  }\n",
              "\n",
              "  .colab-df-spinner {\n",
              "    border: 2px solid var(--fill-color);\n",
              "    border-color: transparent;\n",
              "    border-bottom-color: var(--fill-color);\n",
              "    animation:\n",
              "      spin 1s steps(1) infinite;\n",
              "  }\n",
              "\n",
              "  @keyframes spin {\n",
              "    0% {\n",
              "      border-color: transparent;\n",
              "      border-bottom-color: var(--fill-color);\n",
              "      border-left-color: var(--fill-color);\n",
              "    }\n",
              "    20% {\n",
              "      border-color: transparent;\n",
              "      border-left-color: var(--fill-color);\n",
              "      border-top-color: var(--fill-color);\n",
              "    }\n",
              "    30% {\n",
              "      border-color: transparent;\n",
              "      border-left-color: var(--fill-color);\n",
              "      border-top-color: var(--fill-color);\n",
              "      border-right-color: var(--fill-color);\n",
              "    }\n",
              "    40% {\n",
              "      border-color: transparent;\n",
              "      border-right-color: var(--fill-color);\n",
              "      border-top-color: var(--fill-color);\n",
              "    }\n",
              "    60% {\n",
              "      border-color: transparent;\n",
              "      border-right-color: var(--fill-color);\n",
              "    }\n",
              "    80% {\n",
              "      border-color: transparent;\n",
              "      border-right-color: var(--fill-color);\n",
              "      border-bottom-color: var(--fill-color);\n",
              "    }\n",
              "    90% {\n",
              "      border-color: transparent;\n",
              "      border-bottom-color: var(--fill-color);\n",
              "    }\n",
              "  }\n",
              "</style>\n",
              "\n",
              "  <script>\n",
              "    async function quickchart(key) {\n",
              "      const quickchartButtonEl =\n",
              "        document.querySelector('#' + key + ' button');\n",
              "      quickchartButtonEl.disabled = true;  // To prevent multiple clicks.\n",
              "      quickchartButtonEl.classList.add('colab-df-spinner');\n",
              "      try {\n",
              "        const charts = await google.colab.kernel.invokeFunction(\n",
              "            'suggestCharts', [key], {});\n",
              "      } catch (error) {\n",
              "        console.error('Error during call to suggestCharts:', error);\n",
              "      }\n",
              "      quickchartButtonEl.classList.remove('colab-df-spinner');\n",
              "      quickchartButtonEl.classList.add('colab-df-quickchart-complete');\n",
              "    }\n",
              "    (() => {\n",
              "      let quickchartButtonEl =\n",
              "        document.querySelector('#df-987cbfab-e87d-44fa-bb94-466c894112f2 button');\n",
              "      quickchartButtonEl.style.display =\n",
              "        google.colab.kernel.accessAllowed ? 'block' : 'none';\n",
              "    })();\n",
              "  </script>\n",
              "</div>\n",
              "\n",
              "    </div>\n",
              "  </div>\n"
            ]
          },
          "metadata": {},
          "execution_count": 42
        }
      ]
    },
    {
      "cell_type": "code",
      "source": [
        "gptoutput.columns"
      ],
      "metadata": {
        "colab": {
          "base_uri": "https://localhost:8080/"
        },
        "id": "iIebQ9laik4k",
        "outputId": "26a9e0e5-4ef5-4df4-b316-82154a65e508"
      },
      "execution_count": null,
      "outputs": [
        {
          "output_type": "execute_result",
          "data": {
            "text/plain": [
              "Index(['Unnamed: 0.1', 'VAERS_ID', 'Symptoms_actual', 'Symptoms_extracted',\n",
              "       'Unnamed: 0', 'Generated_Response'],\n",
              "      dtype='object')"
            ]
          },
          "metadata": {},
          "execution_count": 43
        }
      ]
    },
    {
      "cell_type": "code",
      "source": [
        "def calculate_metrics(target_symptoms, predicted_symptoms):\n",
        "    true_positives = len(set(target_symptoms).intersection(predicted_symptoms))\n",
        "    false_positives = len(predicted_symptoms) - true_positives\n",
        "    false_negatives = len(target_symptoms) - true_positives\n",
        "\n",
        "    precision = true_positives / (true_positives + false_positives) if (true_positives + false_positives) > 0 else 0\n",
        "    recall = true_positives / (true_positives + false_negatives) if (true_positives + false_negatives) > 0 else 0\n",
        "    f1 = 2 * (precision * recall) / (precision + recall) if (precision + recall) > 0 else 0\n",
        "\n",
        "    return precision, recall, f1\n",
        "\n",
        "# Create a DataFrame to store individual precision, recall, and F1-score for each record\n",
        "evaluation_results_gpt = pd.DataFrame(columns=['Precision', 'Recall', 'F1'])\n",
        "\n",
        "# Iterate over each record in the DataFrame\n",
        "for index, row in gptoutput.iterrows():\n",
        "    # Extract the target and predicted symptoms for the current record\n",
        "    target_symptoms_gpt = set(row['Symptoms_actual'])\n",
        "    predicted_symptoms_gpt = set(row['Generated_Response'])\n",
        "\n",
        "    # Calculate metrics and append the results to the DataFrame\n",
        "    precision_gpt, recall_gpt, f1_gpt = calculate_metrics(target_symptoms_gpt, predicted_symptoms_gpt)\n",
        "    evaluation_results_gpt = evaluation_results_gpt.append({\n",
        "        'Precision': precision_gpt,\n",
        "        'Recall': recall_gpt,\n",
        "        'F1': f1_gpt\n",
        "    }, ignore_index=True)\n",
        "\n",
        "# Calculate average precision, recall, and F1-score across all records\n",
        "average_precision_gpt = evaluation_results_gpt['Precision'].mean()\n",
        "average_recall_gpt = evaluation_results_gpt['Recall'].mean()\n",
        "average_f1_gpt = evaluation_results_gpt['F1'].mean()\n",
        "\n",
        "print(f\"Average Precision: {average_precision_gpt}\")\n",
        "print(f\"Average Recall: {average_recall_gpt}\")\n",
        "print(f\"Average F1-score: {average_f1_gpt}\")"
      ],
      "metadata": {
        "colab": {
          "base_uri": "https://localhost:8080/"
        },
        "id": "sEIgVbl0ik16",
        "outputId": "fe33ea40-76d0-4d11-df6f-76db94abe055"
      },
      "execution_count": null,
      "outputs": [
        {
          "output_type": "stream",
          "name": "stdout",
          "text": [
            "Average Precision: 0.9322535039566947\n",
            "Average Recall: 0.8604722357983066\n",
            "Average F1-score: 0.8836887767606412\n"
          ]
        }
      ]
    },
    {
      "cell_type": "code",
      "source": [
        "evaluation_results_gpt.to_csv(\"evaluation_results_gpt.csv\", index = False)"
      ],
      "metadata": {
        "id": "53TtAlHpikyz"
      },
      "execution_count": null,
      "outputs": []
    },
    {
      "cell_type": "code",
      "source": [],
      "metadata": {
        "id": "ZmxtKBJnlYij"
      },
      "execution_count": null,
      "outputs": []
    },
    {
      "cell_type": "code",
      "source": [],
      "metadata": {
        "id": "tTf0v4fnlYfx"
      },
      "execution_count": null,
      "outputs": []
    },
    {
      "cell_type": "code",
      "source": [],
      "metadata": {
        "id": "57Bo_XmylYdA"
      },
      "execution_count": null,
      "outputs": []
    },
    {
      "cell_type": "code",
      "source": [],
      "metadata": {
        "id": "N86-tJgDlYaq"
      },
      "execution_count": null,
      "outputs": []
    },
    {
      "cell_type": "code",
      "source": [],
      "metadata": {
        "id": "Bc8sUKUUlYXR"
      },
      "execution_count": null,
      "outputs": []
    },
    {
      "cell_type": "code",
      "source": [],
      "metadata": {
        "id": "FAh2J48wlYUa"
      },
      "execution_count": null,
      "outputs": []
    },
    {
      "cell_type": "code",
      "source": [],
      "metadata": {
        "id": "BdS9pGr-lYQt"
      },
      "execution_count": null,
      "outputs": []
    },
    {
      "cell_type": "code",
      "source": [],
      "metadata": {
        "id": "0aIavqHplYNq"
      },
      "execution_count": null,
      "outputs": []
    },
    {
      "cell_type": "code",
      "source": [],
      "metadata": {
        "id": "Usf1z2OWlXgs"
      },
      "execution_count": null,
      "outputs": []
    }
  ],
  "metadata": {
    "colab": {
      "provenance": [],
      "gpuType": "T4"
    },
    "kernelspec": {
      "display_name": "Python 3",
      "name": "python3"
    },
    "language_info": {
      "codemirror_mode": {
        "name": "ipython",
        "version": 3
      },
      "file_extension": ".py",
      "mimetype": "text/x-python",
      "name": "python",
      "nbconvert_exporter": "python",
      "pygments_lexer": "ipython3",
      "version": "3.9.12"
    },
    "accelerator": "GPU"
  },
  "nbformat": 4,
  "nbformat_minor": 0
}